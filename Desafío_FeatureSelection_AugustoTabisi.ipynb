{
  "cells": [
    {
      "cell_type": "code",
      "execution_count": 1,
      "metadata": {
        "colab": {
          "base_uri": "https://localhost:8080/",
          "height": 557
        },
        "id": "2EbUnzT6wdc2",
        "outputId": "8ea2581a-f69d-4857-a70f-aad152a79c8d"
      },
      "outputs": [
        {
          "output_type": "stream",
          "name": "stdout",
          "text": [
            "Drive already mounted at /content/drive; to attempt to forcibly remount, call drive.mount(\"/content/drive\", force_remount=True).\n"
          ]
        },
        {
          "output_type": "execute_result",
          "data": {
            "text/plain": [
              "                                                          url        region  \\\n",
              "id                                                                            \n",
              "7049044568  https://reno.craigslist.org/apa/d/reno-beautif...  reno / tahoe   \n",
              "7049047186  https://reno.craigslist.org/apa/d/reno-reduced...  reno / tahoe   \n",
              "7043634882  https://reno.craigslist.org/apa/d/sparks-state...  reno / tahoe   \n",
              "7049045324  https://reno.craigslist.org/apa/d/reno-1x1-fir...  reno / tahoe   \n",
              "7049043759  https://reno.craigslist.org/apa/d/reno-no-long...  reno / tahoe   \n",
              "\n",
              "                             region_url  price       type  sqfeet  beds  \\\n",
              "id                                                                        \n",
              "7049044568  https://reno.craigslist.org   1148  apartment    1078     3   \n",
              "7049047186  https://reno.craigslist.org   1200      condo    1001     2   \n",
              "7043634882  https://reno.craigslist.org   1813  apartment    1683     2   \n",
              "7049045324  https://reno.craigslist.org   1095  apartment     708     1   \n",
              "7049043759  https://reno.craigslist.org    289  apartment     250     0   \n",
              "\n",
              "            baths  cats_allowed  dogs_allowed  ...  wheelchair_access  \\\n",
              "id                                             ...                      \n",
              "7049044568    2.0             1             1  ...                  0   \n",
              "7049047186    2.0             0             0  ...                  0   \n",
              "7043634882    2.0             1             1  ...                  0   \n",
              "7049045324    1.0             1             1  ...                  0   \n",
              "7049043759    1.0             1             1  ...                  1   \n",
              "\n",
              "            electric_vehicle_charge  comes_furnished  laundry_options  \\\n",
              "id                                                                      \n",
              "7049044568                        0                0      w/d in unit   \n",
              "7049047186                        0                0      w/d hookups   \n",
              "7043634882                        0                0      w/d in unit   \n",
              "7049045324                        0                0      w/d in unit   \n",
              "7049043759                        0                1  laundry on site   \n",
              "\n",
              "            parking_options  \\\n",
              "id                            \n",
              "7049044568          carport   \n",
              "7049047186          carport   \n",
              "7043634882  attached garage   \n",
              "7049045324          carport   \n",
              "7049043759              NaN   \n",
              "\n",
              "                                                    image_url  \\\n",
              "id                                                              \n",
              "7049044568  https://images.craigslist.org/01616_daghmBUvTC...   \n",
              "7049047186  https://images.craigslist.org/00V0V_5va0MkgO9q...   \n",
              "7043634882  https://images.craigslist.org/00t0t_erYqC6LgB8...   \n",
              "7049045324  https://images.craigslist.org/00303_3HSJz75zlI...   \n",
              "7049043759  https://images.craigslist.org/01616_fALAWFV8zQ...   \n",
              "\n",
              "                                                  description      lat  \\\n",
              "id                                                                       \n",
              "7049044568  Ridgeview by Vintage is where you will find al...  39.5483   \n",
              "7049047186  Conveniently located in the middle town of Ren...  39.5026   \n",
              "7043634882  2BD | 2BA | 1683SQFTDiscover exceptional servi...  39.6269   \n",
              "7049045324  MOVE IN SPECIAL FREE WASHER/DRYER WITH 6 OR 12...  39.4477   \n",
              "7049043759  Move In Today: Reno Low-Cost, Clean & Furnishe...  39.5357   \n",
              "\n",
              "               long  state  \n",
              "id                          \n",
              "7049044568 -119.796     ca  \n",
              "7049047186 -119.789     ca  \n",
              "7043634882 -119.708     ca  \n",
              "7049045324 -119.771     ca  \n",
              "7049043759 -119.805     ca  \n",
              "\n",
              "[5 rows x 21 columns]"
            ],
            "text/html": [
              "\n",
              "\n",
              "  <div id=\"df-bcdfa01d-0ee7-4ced-8a4b-f7fe04072306\">\n",
              "    <div class=\"colab-df-container\">\n",
              "      <div>\n",
              "<style scoped>\n",
              "    .dataframe tbody tr th:only-of-type {\n",
              "        vertical-align: middle;\n",
              "    }\n",
              "\n",
              "    .dataframe tbody tr th {\n",
              "        vertical-align: top;\n",
              "    }\n",
              "\n",
              "    .dataframe thead th {\n",
              "        text-align: right;\n",
              "    }\n",
              "</style>\n",
              "<table border=\"1\" class=\"dataframe\">\n",
              "  <thead>\n",
              "    <tr style=\"text-align: right;\">\n",
              "      <th></th>\n",
              "      <th>url</th>\n",
              "      <th>region</th>\n",
              "      <th>region_url</th>\n",
              "      <th>price</th>\n",
              "      <th>type</th>\n",
              "      <th>sqfeet</th>\n",
              "      <th>beds</th>\n",
              "      <th>baths</th>\n",
              "      <th>cats_allowed</th>\n",
              "      <th>dogs_allowed</th>\n",
              "      <th>...</th>\n",
              "      <th>wheelchair_access</th>\n",
              "      <th>electric_vehicle_charge</th>\n",
              "      <th>comes_furnished</th>\n",
              "      <th>laundry_options</th>\n",
              "      <th>parking_options</th>\n",
              "      <th>image_url</th>\n",
              "      <th>description</th>\n",
              "      <th>lat</th>\n",
              "      <th>long</th>\n",
              "      <th>state</th>\n",
              "    </tr>\n",
              "    <tr>\n",
              "      <th>id</th>\n",
              "      <th></th>\n",
              "      <th></th>\n",
              "      <th></th>\n",
              "      <th></th>\n",
              "      <th></th>\n",
              "      <th></th>\n",
              "      <th></th>\n",
              "      <th></th>\n",
              "      <th></th>\n",
              "      <th></th>\n",
              "      <th></th>\n",
              "      <th></th>\n",
              "      <th></th>\n",
              "      <th></th>\n",
              "      <th></th>\n",
              "      <th></th>\n",
              "      <th></th>\n",
              "      <th></th>\n",
              "      <th></th>\n",
              "      <th></th>\n",
              "      <th></th>\n",
              "    </tr>\n",
              "  </thead>\n",
              "  <tbody>\n",
              "    <tr>\n",
              "      <th>7049044568</th>\n",
              "      <td>https://reno.craigslist.org/apa/d/reno-beautif...</td>\n",
              "      <td>reno / tahoe</td>\n",
              "      <td>https://reno.craigslist.org</td>\n",
              "      <td>1148</td>\n",
              "      <td>apartment</td>\n",
              "      <td>1078</td>\n",
              "      <td>3</td>\n",
              "      <td>2.0</td>\n",
              "      <td>1</td>\n",
              "      <td>1</td>\n",
              "      <td>...</td>\n",
              "      <td>0</td>\n",
              "      <td>0</td>\n",
              "      <td>0</td>\n",
              "      <td>w/d in unit</td>\n",
              "      <td>carport</td>\n",
              "      <td>https://images.craigslist.org/01616_daghmBUvTC...</td>\n",
              "      <td>Ridgeview by Vintage is where you will find al...</td>\n",
              "      <td>39.5483</td>\n",
              "      <td>-119.796</td>\n",
              "      <td>ca</td>\n",
              "    </tr>\n",
              "    <tr>\n",
              "      <th>7049047186</th>\n",
              "      <td>https://reno.craigslist.org/apa/d/reno-reduced...</td>\n",
              "      <td>reno / tahoe</td>\n",
              "      <td>https://reno.craigslist.org</td>\n",
              "      <td>1200</td>\n",
              "      <td>condo</td>\n",
              "      <td>1001</td>\n",
              "      <td>2</td>\n",
              "      <td>2.0</td>\n",
              "      <td>0</td>\n",
              "      <td>0</td>\n",
              "      <td>...</td>\n",
              "      <td>0</td>\n",
              "      <td>0</td>\n",
              "      <td>0</td>\n",
              "      <td>w/d hookups</td>\n",
              "      <td>carport</td>\n",
              "      <td>https://images.craigslist.org/00V0V_5va0MkgO9q...</td>\n",
              "      <td>Conveniently located in the middle town of Ren...</td>\n",
              "      <td>39.5026</td>\n",
              "      <td>-119.789</td>\n",
              "      <td>ca</td>\n",
              "    </tr>\n",
              "    <tr>\n",
              "      <th>7043634882</th>\n",
              "      <td>https://reno.craigslist.org/apa/d/sparks-state...</td>\n",
              "      <td>reno / tahoe</td>\n",
              "      <td>https://reno.craigslist.org</td>\n",
              "      <td>1813</td>\n",
              "      <td>apartment</td>\n",
              "      <td>1683</td>\n",
              "      <td>2</td>\n",
              "      <td>2.0</td>\n",
              "      <td>1</td>\n",
              "      <td>1</td>\n",
              "      <td>...</td>\n",
              "      <td>0</td>\n",
              "      <td>0</td>\n",
              "      <td>0</td>\n",
              "      <td>w/d in unit</td>\n",
              "      <td>attached garage</td>\n",
              "      <td>https://images.craigslist.org/00t0t_erYqC6LgB8...</td>\n",
              "      <td>2BD | 2BA | 1683SQFTDiscover exceptional servi...</td>\n",
              "      <td>39.6269</td>\n",
              "      <td>-119.708</td>\n",
              "      <td>ca</td>\n",
              "    </tr>\n",
              "    <tr>\n",
              "      <th>7049045324</th>\n",
              "      <td>https://reno.craigslist.org/apa/d/reno-1x1-fir...</td>\n",
              "      <td>reno / tahoe</td>\n",
              "      <td>https://reno.craigslist.org</td>\n",
              "      <td>1095</td>\n",
              "      <td>apartment</td>\n",
              "      <td>708</td>\n",
              "      <td>1</td>\n",
              "      <td>1.0</td>\n",
              "      <td>1</td>\n",
              "      <td>1</td>\n",
              "      <td>...</td>\n",
              "      <td>0</td>\n",
              "      <td>0</td>\n",
              "      <td>0</td>\n",
              "      <td>w/d in unit</td>\n",
              "      <td>carport</td>\n",
              "      <td>https://images.craigslist.org/00303_3HSJz75zlI...</td>\n",
              "      <td>MOVE IN SPECIAL FREE WASHER/DRYER WITH 6 OR 12...</td>\n",
              "      <td>39.4477</td>\n",
              "      <td>-119.771</td>\n",
              "      <td>ca</td>\n",
              "    </tr>\n",
              "    <tr>\n",
              "      <th>7049043759</th>\n",
              "      <td>https://reno.craigslist.org/apa/d/reno-no-long...</td>\n",
              "      <td>reno / tahoe</td>\n",
              "      <td>https://reno.craigslist.org</td>\n",
              "      <td>289</td>\n",
              "      <td>apartment</td>\n",
              "      <td>250</td>\n",
              "      <td>0</td>\n",
              "      <td>1.0</td>\n",
              "      <td>1</td>\n",
              "      <td>1</td>\n",
              "      <td>...</td>\n",
              "      <td>1</td>\n",
              "      <td>0</td>\n",
              "      <td>1</td>\n",
              "      <td>laundry on site</td>\n",
              "      <td>NaN</td>\n",
              "      <td>https://images.craigslist.org/01616_fALAWFV8zQ...</td>\n",
              "      <td>Move In Today: Reno Low-Cost, Clean &amp; Furnishe...</td>\n",
              "      <td>39.5357</td>\n",
              "      <td>-119.805</td>\n",
              "      <td>ca</td>\n",
              "    </tr>\n",
              "  </tbody>\n",
              "</table>\n",
              "<p>5 rows × 21 columns</p>\n",
              "</div>\n",
              "      <button class=\"colab-df-convert\" onclick=\"convertToInteractive('df-bcdfa01d-0ee7-4ced-8a4b-f7fe04072306')\"\n",
              "              title=\"Convert this dataframe to an interactive table.\"\n",
              "              style=\"display:none;\">\n",
              "\n",
              "  <svg xmlns=\"http://www.w3.org/2000/svg\" height=\"24px\"viewBox=\"0 0 24 24\"\n",
              "       width=\"24px\">\n",
              "    <path d=\"M0 0h24v24H0V0z\" fill=\"none\"/>\n",
              "    <path d=\"M18.56 5.44l.94 2.06.94-2.06 2.06-.94-2.06-.94-.94-2.06-.94 2.06-2.06.94zm-11 1L8.5 8.5l.94-2.06 2.06-.94-2.06-.94L8.5 2.5l-.94 2.06-2.06.94zm10 10l.94 2.06.94-2.06 2.06-.94-2.06-.94-.94-2.06-.94 2.06-2.06.94z\"/><path d=\"M17.41 7.96l-1.37-1.37c-.4-.4-.92-.59-1.43-.59-.52 0-1.04.2-1.43.59L10.3 9.45l-7.72 7.72c-.78.78-.78 2.05 0 2.83L4 21.41c.39.39.9.59 1.41.59.51 0 1.02-.2 1.41-.59l7.78-7.78 2.81-2.81c.8-.78.8-2.07 0-2.86zM5.41 20L4 18.59l7.72-7.72 1.47 1.35L5.41 20z\"/>\n",
              "  </svg>\n",
              "      </button>\n",
              "\n",
              "\n",
              "\n",
              "    <div id=\"df-d0de5ab2-768d-4421-8a76-fc2d04cbeb49\">\n",
              "      <button class=\"colab-df-quickchart\" onclick=\"quickchart('df-d0de5ab2-768d-4421-8a76-fc2d04cbeb49')\"\n",
              "              title=\"Suggest charts.\"\n",
              "              style=\"display:none;\">\n",
              "\n",
              "<svg xmlns=\"http://www.w3.org/2000/svg\" height=\"24px\"viewBox=\"0 0 24 24\"\n",
              "     width=\"24px\">\n",
              "    <g>\n",
              "        <path d=\"M19 3H5c-1.1 0-2 .9-2 2v14c0 1.1.9 2 2 2h14c1.1 0 2-.9 2-2V5c0-1.1-.9-2-2-2zM9 17H7v-7h2v7zm4 0h-2V7h2v10zm4 0h-2v-4h2v4z\"/>\n",
              "    </g>\n",
              "</svg>\n",
              "      </button>\n",
              "    </div>\n",
              "\n",
              "<style>\n",
              "  .colab-df-quickchart {\n",
              "    background-color: #E8F0FE;\n",
              "    border: none;\n",
              "    border-radius: 50%;\n",
              "    cursor: pointer;\n",
              "    display: none;\n",
              "    fill: #1967D2;\n",
              "    height: 32px;\n",
              "    padding: 0 0 0 0;\n",
              "    width: 32px;\n",
              "  }\n",
              "\n",
              "  .colab-df-quickchart:hover {\n",
              "    background-color: #E2EBFA;\n",
              "    box-shadow: 0px 1px 2px rgba(60, 64, 67, 0.3), 0px 1px 3px 1px rgba(60, 64, 67, 0.15);\n",
              "    fill: #174EA6;\n",
              "  }\n",
              "\n",
              "  [theme=dark] .colab-df-quickchart {\n",
              "    background-color: #3B4455;\n",
              "    fill: #D2E3FC;\n",
              "  }\n",
              "\n",
              "  [theme=dark] .colab-df-quickchart:hover {\n",
              "    background-color: #434B5C;\n",
              "    box-shadow: 0px 1px 3px 1px rgba(0, 0, 0, 0.15);\n",
              "    filter: drop-shadow(0px 1px 2px rgba(0, 0, 0, 0.3));\n",
              "    fill: #FFFFFF;\n",
              "  }\n",
              "</style>\n",
              "\n",
              "    <script>\n",
              "      async function quickchart(key) {\n",
              "        const containerElement = document.querySelector('#' + key);\n",
              "        const charts = await google.colab.kernel.invokeFunction(\n",
              "            'suggestCharts', [key], {});\n",
              "      }\n",
              "    </script>\n",
              "\n",
              "      <script>\n",
              "\n",
              "function displayQuickchartButton(domScope) {\n",
              "  let quickchartButtonEl =\n",
              "    domScope.querySelector('#df-d0de5ab2-768d-4421-8a76-fc2d04cbeb49 button.colab-df-quickchart');\n",
              "  quickchartButtonEl.style.display =\n",
              "    google.colab.kernel.accessAllowed ? 'block' : 'none';\n",
              "}\n",
              "\n",
              "        displayQuickchartButton(document);\n",
              "      </script>\n",
              "      <style>\n",
              "    .colab-df-container {\n",
              "      display:flex;\n",
              "      flex-wrap:wrap;\n",
              "      gap: 12px;\n",
              "    }\n",
              "\n",
              "    .colab-df-convert {\n",
              "      background-color: #E8F0FE;\n",
              "      border: none;\n",
              "      border-radius: 50%;\n",
              "      cursor: pointer;\n",
              "      display: none;\n",
              "      fill: #1967D2;\n",
              "      height: 32px;\n",
              "      padding: 0 0 0 0;\n",
              "      width: 32px;\n",
              "    }\n",
              "\n",
              "    .colab-df-convert:hover {\n",
              "      background-color: #E2EBFA;\n",
              "      box-shadow: 0px 1px 2px rgba(60, 64, 67, 0.3), 0px 1px 3px 1px rgba(60, 64, 67, 0.15);\n",
              "      fill: #174EA6;\n",
              "    }\n",
              "\n",
              "    [theme=dark] .colab-df-convert {\n",
              "      background-color: #3B4455;\n",
              "      fill: #D2E3FC;\n",
              "    }\n",
              "\n",
              "    [theme=dark] .colab-df-convert:hover {\n",
              "      background-color: #434B5C;\n",
              "      box-shadow: 0px 1px 3px 1px rgba(0, 0, 0, 0.15);\n",
              "      filter: drop-shadow(0px 1px 2px rgba(0, 0, 0, 0.3));\n",
              "      fill: #FFFFFF;\n",
              "    }\n",
              "  </style>\n",
              "\n",
              "      <script>\n",
              "        const buttonEl =\n",
              "          document.querySelector('#df-bcdfa01d-0ee7-4ced-8a4b-f7fe04072306 button.colab-df-convert');\n",
              "        buttonEl.style.display =\n",
              "          google.colab.kernel.accessAllowed ? 'block' : 'none';\n",
              "\n",
              "        async function convertToInteractive(key) {\n",
              "          const element = document.querySelector('#df-bcdfa01d-0ee7-4ced-8a4b-f7fe04072306');\n",
              "          const dataTable =\n",
              "            await google.colab.kernel.invokeFunction('convertToInteractive',\n",
              "                                                     [key], {});\n",
              "          if (!dataTable) return;\n",
              "\n",
              "          const docLinkHtml = 'Like what you see? Visit the ' +\n",
              "            '<a target=\"_blank\" href=https://colab.research.google.com/notebooks/data_table.ipynb>data table notebook</a>'\n",
              "            + ' to learn more about interactive tables.';\n",
              "          element.innerHTML = '';\n",
              "          dataTable['output_type'] = 'display_data';\n",
              "          await google.colab.output.renderOutput(dataTable, element);\n",
              "          const docLink = document.createElement('div');\n",
              "          docLink.innerHTML = docLinkHtml;\n",
              "          element.appendChild(docLink);\n",
              "        }\n",
              "      </script>\n",
              "    </div>\n",
              "  </div>\n"
            ]
          },
          "metadata": {},
          "execution_count": 1
        }
      ],
      "source": [
        "from google.colab import drive\n",
        "drive.mount('/content/drive')\n",
        "import pandas as pd\n",
        "import numpy as np\n",
        "import requests\n",
        "Data1 = pd.read_csv('/content/drive/MyDrive/Entrega N1 Data Science/Casas USA/housing.csv', index_col=0)\n",
        "Data1.head(5)"
      ]
    },
    {
      "cell_type": "code",
      "execution_count": 2,
      "metadata": {
        "colab": {
          "base_uri": "https://localhost:8080/"
        },
        "id": "KTokEu0pw3mg",
        "outputId": "6442ca49-a492-4855-c618-7defd47f7118"
      },
      "outputs": [
        {
          "output_type": "execute_result",
          "data": {
            "text/plain": [
              "id\n",
              "7049044568    False\n",
              "7049047186    False\n",
              "7043634882    False\n",
              "7049045324    False\n",
              "7049043759    False\n",
              "              ...  \n",
              "7049053337    False\n",
              "7049052968    False\n",
              "7049050454    False\n",
              "7049050149    False\n",
              "7049050010    False\n",
              "Length: 384977, dtype: bool"
            ]
          },
          "metadata": {},
          "execution_count": 2
        }
      ],
      "source": [
        "Data1.duplicated()"
      ]
    },
    {
      "cell_type": "code",
      "execution_count": 3,
      "metadata": {
        "colab": {
          "base_uri": "https://localhost:8080/",
          "height": 539
        },
        "id": "QyMe7fTsw9Tn",
        "outputId": "0bdade71-0c7b-4d66-c525-8a51db9eaefd"
      },
      "outputs": [
        {
          "output_type": "execute_result",
          "data": {
            "text/plain": [
              "                                                          url        region  \\\n",
              "id                                                                            \n",
              "7049044568  https://reno.craigslist.org/apa/d/reno-beautif...  reno / tahoe   \n",
              "7049047186  https://reno.craigslist.org/apa/d/reno-reduced...  reno / tahoe   \n",
              "7043634882  https://reno.craigslist.org/apa/d/sparks-state...  reno / tahoe   \n",
              "7049045324  https://reno.craigslist.org/apa/d/reno-1x1-fir...  reno / tahoe   \n",
              "7049043759  https://reno.craigslist.org/apa/d/reno-no-long...  reno / tahoe   \n",
              "\n",
              "                             region_url  price       type  sqfeet  beds  \\\n",
              "id                                                                        \n",
              "7049044568  https://reno.craigslist.org   1148  apartment    1078     3   \n",
              "7049047186  https://reno.craigslist.org   1200      condo    1001     2   \n",
              "7043634882  https://reno.craigslist.org   1813  apartment    1683     2   \n",
              "7049045324  https://reno.craigslist.org   1095  apartment     708     1   \n",
              "7049043759  https://reno.craigslist.org    289  apartment     250     0   \n",
              "\n",
              "            baths  cats_allowed  dogs_allowed  ...  wheelchair_access  \\\n",
              "id                                             ...                      \n",
              "7049044568    2.0             1             1  ...                  0   \n",
              "7049047186    2.0             0             0  ...                  0   \n",
              "7043634882    2.0             1             1  ...                  0   \n",
              "7049045324    1.0             1             1  ...                  0   \n",
              "7049043759    1.0             1             1  ...                  1   \n",
              "\n",
              "            electric_vehicle_charge  comes_furnished  laundry_options  \\\n",
              "id                                                                      \n",
              "7049044568                        0                0      w/d in unit   \n",
              "7049047186                        0                0      w/d hookups   \n",
              "7043634882                        0                0      w/d in unit   \n",
              "7049045324                        0                0      w/d in unit   \n",
              "7049043759                        0                1  laundry on site   \n",
              "\n",
              "            parking_options  \\\n",
              "id                            \n",
              "7049044568          carport   \n",
              "7049047186          carport   \n",
              "7043634882  attached garage   \n",
              "7049045324          carport   \n",
              "7049043759              NaN   \n",
              "\n",
              "                                                    image_url  \\\n",
              "id                                                              \n",
              "7049044568  https://images.craigslist.org/01616_daghmBUvTC...   \n",
              "7049047186  https://images.craigslist.org/00V0V_5va0MkgO9q...   \n",
              "7043634882  https://images.craigslist.org/00t0t_erYqC6LgB8...   \n",
              "7049045324  https://images.craigslist.org/00303_3HSJz75zlI...   \n",
              "7049043759  https://images.craigslist.org/01616_fALAWFV8zQ...   \n",
              "\n",
              "                                                  description      lat  \\\n",
              "id                                                                       \n",
              "7049044568  Ridgeview by Vintage is where you will find al...  39.5483   \n",
              "7049047186  Conveniently located in the middle town of Ren...  39.5026   \n",
              "7043634882  2BD | 2BA | 1683SQFTDiscover exceptional servi...  39.6269   \n",
              "7049045324  MOVE IN SPECIAL FREE WASHER/DRYER WITH 6 OR 12...  39.4477   \n",
              "7049043759  Move In Today: Reno Low-Cost, Clean & Furnishe...  39.5357   \n",
              "\n",
              "               long  state  \n",
              "id                          \n",
              "7049044568 -119.796     ca  \n",
              "7049047186 -119.789     ca  \n",
              "7043634882 -119.708     ca  \n",
              "7049045324 -119.771     ca  \n",
              "7049043759 -119.805     ca  \n",
              "\n",
              "[5 rows x 21 columns]"
            ],
            "text/html": [
              "\n",
              "\n",
              "  <div id=\"df-ad80ee49-23f2-43be-ab67-ac65c7691a11\">\n",
              "    <div class=\"colab-df-container\">\n",
              "      <div>\n",
              "<style scoped>\n",
              "    .dataframe tbody tr th:only-of-type {\n",
              "        vertical-align: middle;\n",
              "    }\n",
              "\n",
              "    .dataframe tbody tr th {\n",
              "        vertical-align: top;\n",
              "    }\n",
              "\n",
              "    .dataframe thead th {\n",
              "        text-align: right;\n",
              "    }\n",
              "</style>\n",
              "<table border=\"1\" class=\"dataframe\">\n",
              "  <thead>\n",
              "    <tr style=\"text-align: right;\">\n",
              "      <th></th>\n",
              "      <th>url</th>\n",
              "      <th>region</th>\n",
              "      <th>region_url</th>\n",
              "      <th>price</th>\n",
              "      <th>type</th>\n",
              "      <th>sqfeet</th>\n",
              "      <th>beds</th>\n",
              "      <th>baths</th>\n",
              "      <th>cats_allowed</th>\n",
              "      <th>dogs_allowed</th>\n",
              "      <th>...</th>\n",
              "      <th>wheelchair_access</th>\n",
              "      <th>electric_vehicle_charge</th>\n",
              "      <th>comes_furnished</th>\n",
              "      <th>laundry_options</th>\n",
              "      <th>parking_options</th>\n",
              "      <th>image_url</th>\n",
              "      <th>description</th>\n",
              "      <th>lat</th>\n",
              "      <th>long</th>\n",
              "      <th>state</th>\n",
              "    </tr>\n",
              "    <tr>\n",
              "      <th>id</th>\n",
              "      <th></th>\n",
              "      <th></th>\n",
              "      <th></th>\n",
              "      <th></th>\n",
              "      <th></th>\n",
              "      <th></th>\n",
              "      <th></th>\n",
              "      <th></th>\n",
              "      <th></th>\n",
              "      <th></th>\n",
              "      <th></th>\n",
              "      <th></th>\n",
              "      <th></th>\n",
              "      <th></th>\n",
              "      <th></th>\n",
              "      <th></th>\n",
              "      <th></th>\n",
              "      <th></th>\n",
              "      <th></th>\n",
              "      <th></th>\n",
              "      <th></th>\n",
              "    </tr>\n",
              "  </thead>\n",
              "  <tbody>\n",
              "    <tr>\n",
              "      <th>7049044568</th>\n",
              "      <td>https://reno.craigslist.org/apa/d/reno-beautif...</td>\n",
              "      <td>reno / tahoe</td>\n",
              "      <td>https://reno.craigslist.org</td>\n",
              "      <td>1148</td>\n",
              "      <td>apartment</td>\n",
              "      <td>1078</td>\n",
              "      <td>3</td>\n",
              "      <td>2.0</td>\n",
              "      <td>1</td>\n",
              "      <td>1</td>\n",
              "      <td>...</td>\n",
              "      <td>0</td>\n",
              "      <td>0</td>\n",
              "      <td>0</td>\n",
              "      <td>w/d in unit</td>\n",
              "      <td>carport</td>\n",
              "      <td>https://images.craigslist.org/01616_daghmBUvTC...</td>\n",
              "      <td>Ridgeview by Vintage is where you will find al...</td>\n",
              "      <td>39.5483</td>\n",
              "      <td>-119.796</td>\n",
              "      <td>ca</td>\n",
              "    </tr>\n",
              "    <tr>\n",
              "      <th>7049047186</th>\n",
              "      <td>https://reno.craigslist.org/apa/d/reno-reduced...</td>\n",
              "      <td>reno / tahoe</td>\n",
              "      <td>https://reno.craigslist.org</td>\n",
              "      <td>1200</td>\n",
              "      <td>condo</td>\n",
              "      <td>1001</td>\n",
              "      <td>2</td>\n",
              "      <td>2.0</td>\n",
              "      <td>0</td>\n",
              "      <td>0</td>\n",
              "      <td>...</td>\n",
              "      <td>0</td>\n",
              "      <td>0</td>\n",
              "      <td>0</td>\n",
              "      <td>w/d hookups</td>\n",
              "      <td>carport</td>\n",
              "      <td>https://images.craigslist.org/00V0V_5va0MkgO9q...</td>\n",
              "      <td>Conveniently located in the middle town of Ren...</td>\n",
              "      <td>39.5026</td>\n",
              "      <td>-119.789</td>\n",
              "      <td>ca</td>\n",
              "    </tr>\n",
              "    <tr>\n",
              "      <th>7043634882</th>\n",
              "      <td>https://reno.craigslist.org/apa/d/sparks-state...</td>\n",
              "      <td>reno / tahoe</td>\n",
              "      <td>https://reno.craigslist.org</td>\n",
              "      <td>1813</td>\n",
              "      <td>apartment</td>\n",
              "      <td>1683</td>\n",
              "      <td>2</td>\n",
              "      <td>2.0</td>\n",
              "      <td>1</td>\n",
              "      <td>1</td>\n",
              "      <td>...</td>\n",
              "      <td>0</td>\n",
              "      <td>0</td>\n",
              "      <td>0</td>\n",
              "      <td>w/d in unit</td>\n",
              "      <td>attached garage</td>\n",
              "      <td>https://images.craigslist.org/00t0t_erYqC6LgB8...</td>\n",
              "      <td>2BD | 2BA | 1683SQFTDiscover exceptional servi...</td>\n",
              "      <td>39.6269</td>\n",
              "      <td>-119.708</td>\n",
              "      <td>ca</td>\n",
              "    </tr>\n",
              "    <tr>\n",
              "      <th>7049045324</th>\n",
              "      <td>https://reno.craigslist.org/apa/d/reno-1x1-fir...</td>\n",
              "      <td>reno / tahoe</td>\n",
              "      <td>https://reno.craigslist.org</td>\n",
              "      <td>1095</td>\n",
              "      <td>apartment</td>\n",
              "      <td>708</td>\n",
              "      <td>1</td>\n",
              "      <td>1.0</td>\n",
              "      <td>1</td>\n",
              "      <td>1</td>\n",
              "      <td>...</td>\n",
              "      <td>0</td>\n",
              "      <td>0</td>\n",
              "      <td>0</td>\n",
              "      <td>w/d in unit</td>\n",
              "      <td>carport</td>\n",
              "      <td>https://images.craigslist.org/00303_3HSJz75zlI...</td>\n",
              "      <td>MOVE IN SPECIAL FREE WASHER/DRYER WITH 6 OR 12...</td>\n",
              "      <td>39.4477</td>\n",
              "      <td>-119.771</td>\n",
              "      <td>ca</td>\n",
              "    </tr>\n",
              "    <tr>\n",
              "      <th>7049043759</th>\n",
              "      <td>https://reno.craigslist.org/apa/d/reno-no-long...</td>\n",
              "      <td>reno / tahoe</td>\n",
              "      <td>https://reno.craigslist.org</td>\n",
              "      <td>289</td>\n",
              "      <td>apartment</td>\n",
              "      <td>250</td>\n",
              "      <td>0</td>\n",
              "      <td>1.0</td>\n",
              "      <td>1</td>\n",
              "      <td>1</td>\n",
              "      <td>...</td>\n",
              "      <td>1</td>\n",
              "      <td>0</td>\n",
              "      <td>1</td>\n",
              "      <td>laundry on site</td>\n",
              "      <td>NaN</td>\n",
              "      <td>https://images.craigslist.org/01616_fALAWFV8zQ...</td>\n",
              "      <td>Move In Today: Reno Low-Cost, Clean &amp; Furnishe...</td>\n",
              "      <td>39.5357</td>\n",
              "      <td>-119.805</td>\n",
              "      <td>ca</td>\n",
              "    </tr>\n",
              "  </tbody>\n",
              "</table>\n",
              "<p>5 rows × 21 columns</p>\n",
              "</div>\n",
              "      <button class=\"colab-df-convert\" onclick=\"convertToInteractive('df-ad80ee49-23f2-43be-ab67-ac65c7691a11')\"\n",
              "              title=\"Convert this dataframe to an interactive table.\"\n",
              "              style=\"display:none;\">\n",
              "\n",
              "  <svg xmlns=\"http://www.w3.org/2000/svg\" height=\"24px\"viewBox=\"0 0 24 24\"\n",
              "       width=\"24px\">\n",
              "    <path d=\"M0 0h24v24H0V0z\" fill=\"none\"/>\n",
              "    <path d=\"M18.56 5.44l.94 2.06.94-2.06 2.06-.94-2.06-.94-.94-2.06-.94 2.06-2.06.94zm-11 1L8.5 8.5l.94-2.06 2.06-.94-2.06-.94L8.5 2.5l-.94 2.06-2.06.94zm10 10l.94 2.06.94-2.06 2.06-.94-2.06-.94-.94-2.06-.94 2.06-2.06.94z\"/><path d=\"M17.41 7.96l-1.37-1.37c-.4-.4-.92-.59-1.43-.59-.52 0-1.04.2-1.43.59L10.3 9.45l-7.72 7.72c-.78.78-.78 2.05 0 2.83L4 21.41c.39.39.9.59 1.41.59.51 0 1.02-.2 1.41-.59l7.78-7.78 2.81-2.81c.8-.78.8-2.07 0-2.86zM5.41 20L4 18.59l7.72-7.72 1.47 1.35L5.41 20z\"/>\n",
              "  </svg>\n",
              "      </button>\n",
              "\n",
              "\n",
              "\n",
              "    <div id=\"df-59510214-03ed-4f5e-904b-5c218faeabd3\">\n",
              "      <button class=\"colab-df-quickchart\" onclick=\"quickchart('df-59510214-03ed-4f5e-904b-5c218faeabd3')\"\n",
              "              title=\"Suggest charts.\"\n",
              "              style=\"display:none;\">\n",
              "\n",
              "<svg xmlns=\"http://www.w3.org/2000/svg\" height=\"24px\"viewBox=\"0 0 24 24\"\n",
              "     width=\"24px\">\n",
              "    <g>\n",
              "        <path d=\"M19 3H5c-1.1 0-2 .9-2 2v14c0 1.1.9 2 2 2h14c1.1 0 2-.9 2-2V5c0-1.1-.9-2-2-2zM9 17H7v-7h2v7zm4 0h-2V7h2v10zm4 0h-2v-4h2v4z\"/>\n",
              "    </g>\n",
              "</svg>\n",
              "      </button>\n",
              "    </div>\n",
              "\n",
              "<style>\n",
              "  .colab-df-quickchart {\n",
              "    background-color: #E8F0FE;\n",
              "    border: none;\n",
              "    border-radius: 50%;\n",
              "    cursor: pointer;\n",
              "    display: none;\n",
              "    fill: #1967D2;\n",
              "    height: 32px;\n",
              "    padding: 0 0 0 0;\n",
              "    width: 32px;\n",
              "  }\n",
              "\n",
              "  .colab-df-quickchart:hover {\n",
              "    background-color: #E2EBFA;\n",
              "    box-shadow: 0px 1px 2px rgba(60, 64, 67, 0.3), 0px 1px 3px 1px rgba(60, 64, 67, 0.15);\n",
              "    fill: #174EA6;\n",
              "  }\n",
              "\n",
              "  [theme=dark] .colab-df-quickchart {\n",
              "    background-color: #3B4455;\n",
              "    fill: #D2E3FC;\n",
              "  }\n",
              "\n",
              "  [theme=dark] .colab-df-quickchart:hover {\n",
              "    background-color: #434B5C;\n",
              "    box-shadow: 0px 1px 3px 1px rgba(0, 0, 0, 0.15);\n",
              "    filter: drop-shadow(0px 1px 2px rgba(0, 0, 0, 0.3));\n",
              "    fill: #FFFFFF;\n",
              "  }\n",
              "</style>\n",
              "\n",
              "    <script>\n",
              "      async function quickchart(key) {\n",
              "        const containerElement = document.querySelector('#' + key);\n",
              "        const charts = await google.colab.kernel.invokeFunction(\n",
              "            'suggestCharts', [key], {});\n",
              "      }\n",
              "    </script>\n",
              "\n",
              "      <script>\n",
              "\n",
              "function displayQuickchartButton(domScope) {\n",
              "  let quickchartButtonEl =\n",
              "    domScope.querySelector('#df-59510214-03ed-4f5e-904b-5c218faeabd3 button.colab-df-quickchart');\n",
              "  quickchartButtonEl.style.display =\n",
              "    google.colab.kernel.accessAllowed ? 'block' : 'none';\n",
              "}\n",
              "\n",
              "        displayQuickchartButton(document);\n",
              "      </script>\n",
              "      <style>\n",
              "    .colab-df-container {\n",
              "      display:flex;\n",
              "      flex-wrap:wrap;\n",
              "      gap: 12px;\n",
              "    }\n",
              "\n",
              "    .colab-df-convert {\n",
              "      background-color: #E8F0FE;\n",
              "      border: none;\n",
              "      border-radius: 50%;\n",
              "      cursor: pointer;\n",
              "      display: none;\n",
              "      fill: #1967D2;\n",
              "      height: 32px;\n",
              "      padding: 0 0 0 0;\n",
              "      width: 32px;\n",
              "    }\n",
              "\n",
              "    .colab-df-convert:hover {\n",
              "      background-color: #E2EBFA;\n",
              "      box-shadow: 0px 1px 2px rgba(60, 64, 67, 0.3), 0px 1px 3px 1px rgba(60, 64, 67, 0.15);\n",
              "      fill: #174EA6;\n",
              "    }\n",
              "\n",
              "    [theme=dark] .colab-df-convert {\n",
              "      background-color: #3B4455;\n",
              "      fill: #D2E3FC;\n",
              "    }\n",
              "\n",
              "    [theme=dark] .colab-df-convert:hover {\n",
              "      background-color: #434B5C;\n",
              "      box-shadow: 0px 1px 3px 1px rgba(0, 0, 0, 0.15);\n",
              "      filter: drop-shadow(0px 1px 2px rgba(0, 0, 0, 0.3));\n",
              "      fill: #FFFFFF;\n",
              "    }\n",
              "  </style>\n",
              "\n",
              "      <script>\n",
              "        const buttonEl =\n",
              "          document.querySelector('#df-ad80ee49-23f2-43be-ab67-ac65c7691a11 button.colab-df-convert');\n",
              "        buttonEl.style.display =\n",
              "          google.colab.kernel.accessAllowed ? 'block' : 'none';\n",
              "\n",
              "        async function convertToInteractive(key) {\n",
              "          const element = document.querySelector('#df-ad80ee49-23f2-43be-ab67-ac65c7691a11');\n",
              "          const dataTable =\n",
              "            await google.colab.kernel.invokeFunction('convertToInteractive',\n",
              "                                                     [key], {});\n",
              "          if (!dataTable) return;\n",
              "\n",
              "          const docLinkHtml = 'Like what you see? Visit the ' +\n",
              "            '<a target=\"_blank\" href=https://colab.research.google.com/notebooks/data_table.ipynb>data table notebook</a>'\n",
              "            + ' to learn more about interactive tables.';\n",
              "          element.innerHTML = '';\n",
              "          dataTable['output_type'] = 'display_data';\n",
              "          await google.colab.output.renderOutput(dataTable, element);\n",
              "          const docLink = document.createElement('div');\n",
              "          docLink.innerHTML = docLinkHtml;\n",
              "          element.appendChild(docLink);\n",
              "        }\n",
              "      </script>\n",
              "    </div>\n",
              "  </div>\n"
            ]
          },
          "metadata": {},
          "execution_count": 3
        }
      ],
      "source": [
        "Data2 = Data1.drop_duplicates()\n",
        "Data2.head(5)"
      ]
    },
    {
      "cell_type": "code",
      "execution_count": 4,
      "metadata": {
        "colab": {
          "base_uri": "https://localhost:8080/",
          "height": 388
        },
        "id": "hFDcp6ayxYym",
        "outputId": "ad6f022f-594c-4aa5-8ca7-99b4bf11d16a"
      },
      "outputs": [
        {
          "output_type": "execute_result",
          "data": {
            "text/plain": [
              "                  region  price       type  sqfeet  beds  baths  cats_allowed  \\\n",
              "id                                                                              \n",
              "7049044568  reno / tahoe   1148  apartment    1078     3    2.0             1   \n",
              "7049047186  reno / tahoe   1200      condo    1001     2    2.0             0   \n",
              "7043634882  reno / tahoe   1813  apartment    1683     2    2.0             1   \n",
              "7049045324  reno / tahoe   1095  apartment     708     1    1.0             1   \n",
              "7049043759  reno / tahoe    289  apartment     250     0    1.0             1   \n",
              "\n",
              "            dogs_allowed  smoking_allowed  wheelchair_access  \\\n",
              "id                                                             \n",
              "7049044568             1                0                  0   \n",
              "7049047186             0                0                  0   \n",
              "7043634882             1                1                  0   \n",
              "7049045324             1                1                  0   \n",
              "7049043759             1                1                  1   \n",
              "\n",
              "            electric_vehicle_charge  comes_furnished  laundry_options  \\\n",
              "id                                                                      \n",
              "7049044568                        0                0      w/d in unit   \n",
              "7049047186                        0                0      w/d hookups   \n",
              "7043634882                        0                0      w/d in unit   \n",
              "7049045324                        0                0      w/d in unit   \n",
              "7049043759                        0                1  laundry on site   \n",
              "\n",
              "            parking_options      lat     long state  \n",
              "id                                                   \n",
              "7049044568          carport  39.5483 -119.796    ca  \n",
              "7049047186          carport  39.5026 -119.789    ca  \n",
              "7043634882  attached garage  39.6269 -119.708    ca  \n",
              "7049045324          carport  39.4477 -119.771    ca  \n",
              "7049043759              NaN  39.5357 -119.805    ca  "
            ],
            "text/html": [
              "\n",
              "\n",
              "  <div id=\"df-3ca61888-be74-40e5-8b12-91f49a16ad09\">\n",
              "    <div class=\"colab-df-container\">\n",
              "      <div>\n",
              "<style scoped>\n",
              "    .dataframe tbody tr th:only-of-type {\n",
              "        vertical-align: middle;\n",
              "    }\n",
              "\n",
              "    .dataframe tbody tr th {\n",
              "        vertical-align: top;\n",
              "    }\n",
              "\n",
              "    .dataframe thead th {\n",
              "        text-align: right;\n",
              "    }\n",
              "</style>\n",
              "<table border=\"1\" class=\"dataframe\">\n",
              "  <thead>\n",
              "    <tr style=\"text-align: right;\">\n",
              "      <th></th>\n",
              "      <th>region</th>\n",
              "      <th>price</th>\n",
              "      <th>type</th>\n",
              "      <th>sqfeet</th>\n",
              "      <th>beds</th>\n",
              "      <th>baths</th>\n",
              "      <th>cats_allowed</th>\n",
              "      <th>dogs_allowed</th>\n",
              "      <th>smoking_allowed</th>\n",
              "      <th>wheelchair_access</th>\n",
              "      <th>electric_vehicle_charge</th>\n",
              "      <th>comes_furnished</th>\n",
              "      <th>laundry_options</th>\n",
              "      <th>parking_options</th>\n",
              "      <th>lat</th>\n",
              "      <th>long</th>\n",
              "      <th>state</th>\n",
              "    </tr>\n",
              "    <tr>\n",
              "      <th>id</th>\n",
              "      <th></th>\n",
              "      <th></th>\n",
              "      <th></th>\n",
              "      <th></th>\n",
              "      <th></th>\n",
              "      <th></th>\n",
              "      <th></th>\n",
              "      <th></th>\n",
              "      <th></th>\n",
              "      <th></th>\n",
              "      <th></th>\n",
              "      <th></th>\n",
              "      <th></th>\n",
              "      <th></th>\n",
              "      <th></th>\n",
              "      <th></th>\n",
              "      <th></th>\n",
              "    </tr>\n",
              "  </thead>\n",
              "  <tbody>\n",
              "    <tr>\n",
              "      <th>7049044568</th>\n",
              "      <td>reno / tahoe</td>\n",
              "      <td>1148</td>\n",
              "      <td>apartment</td>\n",
              "      <td>1078</td>\n",
              "      <td>3</td>\n",
              "      <td>2.0</td>\n",
              "      <td>1</td>\n",
              "      <td>1</td>\n",
              "      <td>0</td>\n",
              "      <td>0</td>\n",
              "      <td>0</td>\n",
              "      <td>0</td>\n",
              "      <td>w/d in unit</td>\n",
              "      <td>carport</td>\n",
              "      <td>39.5483</td>\n",
              "      <td>-119.796</td>\n",
              "      <td>ca</td>\n",
              "    </tr>\n",
              "    <tr>\n",
              "      <th>7049047186</th>\n",
              "      <td>reno / tahoe</td>\n",
              "      <td>1200</td>\n",
              "      <td>condo</td>\n",
              "      <td>1001</td>\n",
              "      <td>2</td>\n",
              "      <td>2.0</td>\n",
              "      <td>0</td>\n",
              "      <td>0</td>\n",
              "      <td>0</td>\n",
              "      <td>0</td>\n",
              "      <td>0</td>\n",
              "      <td>0</td>\n",
              "      <td>w/d hookups</td>\n",
              "      <td>carport</td>\n",
              "      <td>39.5026</td>\n",
              "      <td>-119.789</td>\n",
              "      <td>ca</td>\n",
              "    </tr>\n",
              "    <tr>\n",
              "      <th>7043634882</th>\n",
              "      <td>reno / tahoe</td>\n",
              "      <td>1813</td>\n",
              "      <td>apartment</td>\n",
              "      <td>1683</td>\n",
              "      <td>2</td>\n",
              "      <td>2.0</td>\n",
              "      <td>1</td>\n",
              "      <td>1</td>\n",
              "      <td>1</td>\n",
              "      <td>0</td>\n",
              "      <td>0</td>\n",
              "      <td>0</td>\n",
              "      <td>w/d in unit</td>\n",
              "      <td>attached garage</td>\n",
              "      <td>39.6269</td>\n",
              "      <td>-119.708</td>\n",
              "      <td>ca</td>\n",
              "    </tr>\n",
              "    <tr>\n",
              "      <th>7049045324</th>\n",
              "      <td>reno / tahoe</td>\n",
              "      <td>1095</td>\n",
              "      <td>apartment</td>\n",
              "      <td>708</td>\n",
              "      <td>1</td>\n",
              "      <td>1.0</td>\n",
              "      <td>1</td>\n",
              "      <td>1</td>\n",
              "      <td>1</td>\n",
              "      <td>0</td>\n",
              "      <td>0</td>\n",
              "      <td>0</td>\n",
              "      <td>w/d in unit</td>\n",
              "      <td>carport</td>\n",
              "      <td>39.4477</td>\n",
              "      <td>-119.771</td>\n",
              "      <td>ca</td>\n",
              "    </tr>\n",
              "    <tr>\n",
              "      <th>7049043759</th>\n",
              "      <td>reno / tahoe</td>\n",
              "      <td>289</td>\n",
              "      <td>apartment</td>\n",
              "      <td>250</td>\n",
              "      <td>0</td>\n",
              "      <td>1.0</td>\n",
              "      <td>1</td>\n",
              "      <td>1</td>\n",
              "      <td>1</td>\n",
              "      <td>1</td>\n",
              "      <td>0</td>\n",
              "      <td>1</td>\n",
              "      <td>laundry on site</td>\n",
              "      <td>NaN</td>\n",
              "      <td>39.5357</td>\n",
              "      <td>-119.805</td>\n",
              "      <td>ca</td>\n",
              "    </tr>\n",
              "  </tbody>\n",
              "</table>\n",
              "</div>\n",
              "      <button class=\"colab-df-convert\" onclick=\"convertToInteractive('df-3ca61888-be74-40e5-8b12-91f49a16ad09')\"\n",
              "              title=\"Convert this dataframe to an interactive table.\"\n",
              "              style=\"display:none;\">\n",
              "\n",
              "  <svg xmlns=\"http://www.w3.org/2000/svg\" height=\"24px\"viewBox=\"0 0 24 24\"\n",
              "       width=\"24px\">\n",
              "    <path d=\"M0 0h24v24H0V0z\" fill=\"none\"/>\n",
              "    <path d=\"M18.56 5.44l.94 2.06.94-2.06 2.06-.94-2.06-.94-.94-2.06-.94 2.06-2.06.94zm-11 1L8.5 8.5l.94-2.06 2.06-.94-2.06-.94L8.5 2.5l-.94 2.06-2.06.94zm10 10l.94 2.06.94-2.06 2.06-.94-2.06-.94-.94-2.06-.94 2.06-2.06.94z\"/><path d=\"M17.41 7.96l-1.37-1.37c-.4-.4-.92-.59-1.43-.59-.52 0-1.04.2-1.43.59L10.3 9.45l-7.72 7.72c-.78.78-.78 2.05 0 2.83L4 21.41c.39.39.9.59 1.41.59.51 0 1.02-.2 1.41-.59l7.78-7.78 2.81-2.81c.8-.78.8-2.07 0-2.86zM5.41 20L4 18.59l7.72-7.72 1.47 1.35L5.41 20z\"/>\n",
              "  </svg>\n",
              "      </button>\n",
              "\n",
              "\n",
              "\n",
              "    <div id=\"df-ee3f59c4-980b-4fc5-b12d-ddb59cd6da72\">\n",
              "      <button class=\"colab-df-quickchart\" onclick=\"quickchart('df-ee3f59c4-980b-4fc5-b12d-ddb59cd6da72')\"\n",
              "              title=\"Suggest charts.\"\n",
              "              style=\"display:none;\">\n",
              "\n",
              "<svg xmlns=\"http://www.w3.org/2000/svg\" height=\"24px\"viewBox=\"0 0 24 24\"\n",
              "     width=\"24px\">\n",
              "    <g>\n",
              "        <path d=\"M19 3H5c-1.1 0-2 .9-2 2v14c0 1.1.9 2 2 2h14c1.1 0 2-.9 2-2V5c0-1.1-.9-2-2-2zM9 17H7v-7h2v7zm4 0h-2V7h2v10zm4 0h-2v-4h2v4z\"/>\n",
              "    </g>\n",
              "</svg>\n",
              "      </button>\n",
              "    </div>\n",
              "\n",
              "<style>\n",
              "  .colab-df-quickchart {\n",
              "    background-color: #E8F0FE;\n",
              "    border: none;\n",
              "    border-radius: 50%;\n",
              "    cursor: pointer;\n",
              "    display: none;\n",
              "    fill: #1967D2;\n",
              "    height: 32px;\n",
              "    padding: 0 0 0 0;\n",
              "    width: 32px;\n",
              "  }\n",
              "\n",
              "  .colab-df-quickchart:hover {\n",
              "    background-color: #E2EBFA;\n",
              "    box-shadow: 0px 1px 2px rgba(60, 64, 67, 0.3), 0px 1px 3px 1px rgba(60, 64, 67, 0.15);\n",
              "    fill: #174EA6;\n",
              "  }\n",
              "\n",
              "  [theme=dark] .colab-df-quickchart {\n",
              "    background-color: #3B4455;\n",
              "    fill: #D2E3FC;\n",
              "  }\n",
              "\n",
              "  [theme=dark] .colab-df-quickchart:hover {\n",
              "    background-color: #434B5C;\n",
              "    box-shadow: 0px 1px 3px 1px rgba(0, 0, 0, 0.15);\n",
              "    filter: drop-shadow(0px 1px 2px rgba(0, 0, 0, 0.3));\n",
              "    fill: #FFFFFF;\n",
              "  }\n",
              "</style>\n",
              "\n",
              "    <script>\n",
              "      async function quickchart(key) {\n",
              "        const containerElement = document.querySelector('#' + key);\n",
              "        const charts = await google.colab.kernel.invokeFunction(\n",
              "            'suggestCharts', [key], {});\n",
              "      }\n",
              "    </script>\n",
              "\n",
              "      <script>\n",
              "\n",
              "function displayQuickchartButton(domScope) {\n",
              "  let quickchartButtonEl =\n",
              "    domScope.querySelector('#df-ee3f59c4-980b-4fc5-b12d-ddb59cd6da72 button.colab-df-quickchart');\n",
              "  quickchartButtonEl.style.display =\n",
              "    google.colab.kernel.accessAllowed ? 'block' : 'none';\n",
              "}\n",
              "\n",
              "        displayQuickchartButton(document);\n",
              "      </script>\n",
              "      <style>\n",
              "    .colab-df-container {\n",
              "      display:flex;\n",
              "      flex-wrap:wrap;\n",
              "      gap: 12px;\n",
              "    }\n",
              "\n",
              "    .colab-df-convert {\n",
              "      background-color: #E8F0FE;\n",
              "      border: none;\n",
              "      border-radius: 50%;\n",
              "      cursor: pointer;\n",
              "      display: none;\n",
              "      fill: #1967D2;\n",
              "      height: 32px;\n",
              "      padding: 0 0 0 0;\n",
              "      width: 32px;\n",
              "    }\n",
              "\n",
              "    .colab-df-convert:hover {\n",
              "      background-color: #E2EBFA;\n",
              "      box-shadow: 0px 1px 2px rgba(60, 64, 67, 0.3), 0px 1px 3px 1px rgba(60, 64, 67, 0.15);\n",
              "      fill: #174EA6;\n",
              "    }\n",
              "\n",
              "    [theme=dark] .colab-df-convert {\n",
              "      background-color: #3B4455;\n",
              "      fill: #D2E3FC;\n",
              "    }\n",
              "\n",
              "    [theme=dark] .colab-df-convert:hover {\n",
              "      background-color: #434B5C;\n",
              "      box-shadow: 0px 1px 3px 1px rgba(0, 0, 0, 0.15);\n",
              "      filter: drop-shadow(0px 1px 2px rgba(0, 0, 0, 0.3));\n",
              "      fill: #FFFFFF;\n",
              "    }\n",
              "  </style>\n",
              "\n",
              "      <script>\n",
              "        const buttonEl =\n",
              "          document.querySelector('#df-3ca61888-be74-40e5-8b12-91f49a16ad09 button.colab-df-convert');\n",
              "        buttonEl.style.display =\n",
              "          google.colab.kernel.accessAllowed ? 'block' : 'none';\n",
              "\n",
              "        async function convertToInteractive(key) {\n",
              "          const element = document.querySelector('#df-3ca61888-be74-40e5-8b12-91f49a16ad09');\n",
              "          const dataTable =\n",
              "            await google.colab.kernel.invokeFunction('convertToInteractive',\n",
              "                                                     [key], {});\n",
              "          if (!dataTable) return;\n",
              "\n",
              "          const docLinkHtml = 'Like what you see? Visit the ' +\n",
              "            '<a target=\"_blank\" href=https://colab.research.google.com/notebooks/data_table.ipynb>data table notebook</a>'\n",
              "            + ' to learn more about interactive tables.';\n",
              "          element.innerHTML = '';\n",
              "          dataTable['output_type'] = 'display_data';\n",
              "          await google.colab.output.renderOutput(dataTable, element);\n",
              "          const docLink = document.createElement('div');\n",
              "          docLink.innerHTML = docLinkHtml;\n",
              "          element.appendChild(docLink);\n",
              "        }\n",
              "      </script>\n",
              "    </div>\n",
              "  </div>\n"
            ]
          },
          "metadata": {},
          "execution_count": 4
        }
      ],
      "source": [
        "df = pd.DataFrame(Data2)\n",
        "df=df.drop([\"url\",\"region_url\",\"image_url\",\"description\"],axis=1)\n",
        "df.head(5)"
      ]
    },
    {
      "cell_type": "code",
      "execution_count": 5,
      "metadata": {
        "colab": {
          "base_uri": "https://localhost:8080/"
        },
        "id": "cfGf-b3dxeby",
        "outputId": "c6128002-3fea-4b62-fb7f-2106a90ee919"
      },
      "outputs": [
        {
          "output_type": "stream",
          "name": "stdout",
          "text": [
            "<class 'pandas.core.frame.DataFrame'>\n",
            "Int64Index: 384977 entries, 7049044568 to 7049050010\n",
            "Data columns (total 17 columns):\n",
            " #   Column                   Non-Null Count   Dtype  \n",
            "---  ------                   --------------   -----  \n",
            " 0   region                   384977 non-null  object \n",
            " 1   price                    384977 non-null  int64  \n",
            " 2   type                     384977 non-null  object \n",
            " 3   sqfeet                   384977 non-null  int64  \n",
            " 4   beds                     384977 non-null  int64  \n",
            " 5   baths                    384977 non-null  float64\n",
            " 6   cats_allowed             384977 non-null  int64  \n",
            " 7   dogs_allowed             384977 non-null  int64  \n",
            " 8   smoking_allowed          384977 non-null  int64  \n",
            " 9   wheelchair_access        384977 non-null  int64  \n",
            " 10  electric_vehicle_charge  384977 non-null  int64  \n",
            " 11  comes_furnished          384977 non-null  int64  \n",
            " 12  laundry_options          305951 non-null  object \n",
            " 13  parking_options          244290 non-null  object \n",
            " 14  lat                      383059 non-null  float64\n",
            " 15  long                     383059 non-null  float64\n",
            " 16  state                    384977 non-null  object \n",
            "dtypes: float64(3), int64(9), object(5)\n",
            "memory usage: 52.9+ MB\n"
          ]
        }
      ],
      "source": [
        "df.info()"
      ]
    },
    {
      "cell_type": "code",
      "execution_count": 6,
      "metadata": {
        "colab": {
          "base_uri": "https://localhost:8080/",
          "height": 364
        },
        "id": "a-7tqTCExhW_",
        "outputId": "94a35337-cd3c-41f6-9776-35c7f924378b"
      },
      "outputs": [
        {
          "output_type": "execute_result",
          "data": {
            "text/plain": [
              "              price        sqfeet           beds          baths  \\\n",
              "count  3.849770e+05  3.849770e+05  384977.000000  384977.000000   \n",
              "mean   8.825722e+03  1.059900e+03       1.905345       1.480718   \n",
              "std    4.462200e+06  1.915076e+04       3.494572       0.618061   \n",
              "min    0.000000e+00  0.000000e+00       0.000000       0.000000   \n",
              "25%    8.050000e+02  7.500000e+02       1.000000       1.000000   \n",
              "50%    1.036000e+03  9.490000e+02       2.000000       1.000000   \n",
              "75%    1.395000e+03  1.150000e+03       2.000000       2.000000   \n",
              "max    2.768307e+09  8.388607e+06    1100.000000      75.000000   \n",
              "\n",
              "        cats_allowed   dogs_allowed  smoking_allowed  wheelchair_access  \\\n",
              "count  384977.000000  384977.000000    384977.000000      384977.000000   \n",
              "mean        0.726890       0.707918         0.731771           0.082111   \n",
              "std         0.445557       0.454721         0.443038           0.274535   \n",
              "min         0.000000       0.000000         0.000000           0.000000   \n",
              "25%         0.000000       0.000000         0.000000           0.000000   \n",
              "50%         1.000000       1.000000         1.000000           0.000000   \n",
              "75%         1.000000       1.000000         1.000000           0.000000   \n",
              "max         1.000000       1.000000         1.000000           1.000000   \n",
              "\n",
              "       electric_vehicle_charge  comes_furnished            lat           long  \n",
              "count            384977.000000    384977.000000  383059.000000  383059.000000  \n",
              "mean                  0.012871         0.048128      37.233487     -92.700631  \n",
              "std                   0.112718         0.214036       5.546171      16.531980  \n",
              "min                   0.000000         0.000000     -43.533300    -163.894000  \n",
              "25%                   0.000000         0.000000      33.454700    -100.775000  \n",
              "50%                   0.000000         0.000000      37.647800     -87.745100  \n",
              "75%                   0.000000         0.000000      41.138300     -81.179600  \n",
              "max                   1.000000         1.000000     102.036000     172.633000  "
            ],
            "text/html": [
              "\n",
              "\n",
              "  <div id=\"df-3d93ccb2-ea9e-46c2-9502-0a2e4fdef597\">\n",
              "    <div class=\"colab-df-container\">\n",
              "      <div>\n",
              "<style scoped>\n",
              "    .dataframe tbody tr th:only-of-type {\n",
              "        vertical-align: middle;\n",
              "    }\n",
              "\n",
              "    .dataframe tbody tr th {\n",
              "        vertical-align: top;\n",
              "    }\n",
              "\n",
              "    .dataframe thead th {\n",
              "        text-align: right;\n",
              "    }\n",
              "</style>\n",
              "<table border=\"1\" class=\"dataframe\">\n",
              "  <thead>\n",
              "    <tr style=\"text-align: right;\">\n",
              "      <th></th>\n",
              "      <th>price</th>\n",
              "      <th>sqfeet</th>\n",
              "      <th>beds</th>\n",
              "      <th>baths</th>\n",
              "      <th>cats_allowed</th>\n",
              "      <th>dogs_allowed</th>\n",
              "      <th>smoking_allowed</th>\n",
              "      <th>wheelchair_access</th>\n",
              "      <th>electric_vehicle_charge</th>\n",
              "      <th>comes_furnished</th>\n",
              "      <th>lat</th>\n",
              "      <th>long</th>\n",
              "    </tr>\n",
              "  </thead>\n",
              "  <tbody>\n",
              "    <tr>\n",
              "      <th>count</th>\n",
              "      <td>3.849770e+05</td>\n",
              "      <td>3.849770e+05</td>\n",
              "      <td>384977.000000</td>\n",
              "      <td>384977.000000</td>\n",
              "      <td>384977.000000</td>\n",
              "      <td>384977.000000</td>\n",
              "      <td>384977.000000</td>\n",
              "      <td>384977.000000</td>\n",
              "      <td>384977.000000</td>\n",
              "      <td>384977.000000</td>\n",
              "      <td>383059.000000</td>\n",
              "      <td>383059.000000</td>\n",
              "    </tr>\n",
              "    <tr>\n",
              "      <th>mean</th>\n",
              "      <td>8.825722e+03</td>\n",
              "      <td>1.059900e+03</td>\n",
              "      <td>1.905345</td>\n",
              "      <td>1.480718</td>\n",
              "      <td>0.726890</td>\n",
              "      <td>0.707918</td>\n",
              "      <td>0.731771</td>\n",
              "      <td>0.082111</td>\n",
              "      <td>0.012871</td>\n",
              "      <td>0.048128</td>\n",
              "      <td>37.233487</td>\n",
              "      <td>-92.700631</td>\n",
              "    </tr>\n",
              "    <tr>\n",
              "      <th>std</th>\n",
              "      <td>4.462200e+06</td>\n",
              "      <td>1.915076e+04</td>\n",
              "      <td>3.494572</td>\n",
              "      <td>0.618061</td>\n",
              "      <td>0.445557</td>\n",
              "      <td>0.454721</td>\n",
              "      <td>0.443038</td>\n",
              "      <td>0.274535</td>\n",
              "      <td>0.112718</td>\n",
              "      <td>0.214036</td>\n",
              "      <td>5.546171</td>\n",
              "      <td>16.531980</td>\n",
              "    </tr>\n",
              "    <tr>\n",
              "      <th>min</th>\n",
              "      <td>0.000000e+00</td>\n",
              "      <td>0.000000e+00</td>\n",
              "      <td>0.000000</td>\n",
              "      <td>0.000000</td>\n",
              "      <td>0.000000</td>\n",
              "      <td>0.000000</td>\n",
              "      <td>0.000000</td>\n",
              "      <td>0.000000</td>\n",
              "      <td>0.000000</td>\n",
              "      <td>0.000000</td>\n",
              "      <td>-43.533300</td>\n",
              "      <td>-163.894000</td>\n",
              "    </tr>\n",
              "    <tr>\n",
              "      <th>25%</th>\n",
              "      <td>8.050000e+02</td>\n",
              "      <td>7.500000e+02</td>\n",
              "      <td>1.000000</td>\n",
              "      <td>1.000000</td>\n",
              "      <td>0.000000</td>\n",
              "      <td>0.000000</td>\n",
              "      <td>0.000000</td>\n",
              "      <td>0.000000</td>\n",
              "      <td>0.000000</td>\n",
              "      <td>0.000000</td>\n",
              "      <td>33.454700</td>\n",
              "      <td>-100.775000</td>\n",
              "    </tr>\n",
              "    <tr>\n",
              "      <th>50%</th>\n",
              "      <td>1.036000e+03</td>\n",
              "      <td>9.490000e+02</td>\n",
              "      <td>2.000000</td>\n",
              "      <td>1.000000</td>\n",
              "      <td>1.000000</td>\n",
              "      <td>1.000000</td>\n",
              "      <td>1.000000</td>\n",
              "      <td>0.000000</td>\n",
              "      <td>0.000000</td>\n",
              "      <td>0.000000</td>\n",
              "      <td>37.647800</td>\n",
              "      <td>-87.745100</td>\n",
              "    </tr>\n",
              "    <tr>\n",
              "      <th>75%</th>\n",
              "      <td>1.395000e+03</td>\n",
              "      <td>1.150000e+03</td>\n",
              "      <td>2.000000</td>\n",
              "      <td>2.000000</td>\n",
              "      <td>1.000000</td>\n",
              "      <td>1.000000</td>\n",
              "      <td>1.000000</td>\n",
              "      <td>0.000000</td>\n",
              "      <td>0.000000</td>\n",
              "      <td>0.000000</td>\n",
              "      <td>41.138300</td>\n",
              "      <td>-81.179600</td>\n",
              "    </tr>\n",
              "    <tr>\n",
              "      <th>max</th>\n",
              "      <td>2.768307e+09</td>\n",
              "      <td>8.388607e+06</td>\n",
              "      <td>1100.000000</td>\n",
              "      <td>75.000000</td>\n",
              "      <td>1.000000</td>\n",
              "      <td>1.000000</td>\n",
              "      <td>1.000000</td>\n",
              "      <td>1.000000</td>\n",
              "      <td>1.000000</td>\n",
              "      <td>1.000000</td>\n",
              "      <td>102.036000</td>\n",
              "      <td>172.633000</td>\n",
              "    </tr>\n",
              "  </tbody>\n",
              "</table>\n",
              "</div>\n",
              "      <button class=\"colab-df-convert\" onclick=\"convertToInteractive('df-3d93ccb2-ea9e-46c2-9502-0a2e4fdef597')\"\n",
              "              title=\"Convert this dataframe to an interactive table.\"\n",
              "              style=\"display:none;\">\n",
              "\n",
              "  <svg xmlns=\"http://www.w3.org/2000/svg\" height=\"24px\"viewBox=\"0 0 24 24\"\n",
              "       width=\"24px\">\n",
              "    <path d=\"M0 0h24v24H0V0z\" fill=\"none\"/>\n",
              "    <path d=\"M18.56 5.44l.94 2.06.94-2.06 2.06-.94-2.06-.94-.94-2.06-.94 2.06-2.06.94zm-11 1L8.5 8.5l.94-2.06 2.06-.94-2.06-.94L8.5 2.5l-.94 2.06-2.06.94zm10 10l.94 2.06.94-2.06 2.06-.94-2.06-.94-.94-2.06-.94 2.06-2.06.94z\"/><path d=\"M17.41 7.96l-1.37-1.37c-.4-.4-.92-.59-1.43-.59-.52 0-1.04.2-1.43.59L10.3 9.45l-7.72 7.72c-.78.78-.78 2.05 0 2.83L4 21.41c.39.39.9.59 1.41.59.51 0 1.02-.2 1.41-.59l7.78-7.78 2.81-2.81c.8-.78.8-2.07 0-2.86zM5.41 20L4 18.59l7.72-7.72 1.47 1.35L5.41 20z\"/>\n",
              "  </svg>\n",
              "      </button>\n",
              "\n",
              "\n",
              "\n",
              "    <div id=\"df-6eb22f6f-6d21-4efc-92f0-ad150c3b553a\">\n",
              "      <button class=\"colab-df-quickchart\" onclick=\"quickchart('df-6eb22f6f-6d21-4efc-92f0-ad150c3b553a')\"\n",
              "              title=\"Suggest charts.\"\n",
              "              style=\"display:none;\">\n",
              "\n",
              "<svg xmlns=\"http://www.w3.org/2000/svg\" height=\"24px\"viewBox=\"0 0 24 24\"\n",
              "     width=\"24px\">\n",
              "    <g>\n",
              "        <path d=\"M19 3H5c-1.1 0-2 .9-2 2v14c0 1.1.9 2 2 2h14c1.1 0 2-.9 2-2V5c0-1.1-.9-2-2-2zM9 17H7v-7h2v7zm4 0h-2V7h2v10zm4 0h-2v-4h2v4z\"/>\n",
              "    </g>\n",
              "</svg>\n",
              "      </button>\n",
              "    </div>\n",
              "\n",
              "<style>\n",
              "  .colab-df-quickchart {\n",
              "    background-color: #E8F0FE;\n",
              "    border: none;\n",
              "    border-radius: 50%;\n",
              "    cursor: pointer;\n",
              "    display: none;\n",
              "    fill: #1967D2;\n",
              "    height: 32px;\n",
              "    padding: 0 0 0 0;\n",
              "    width: 32px;\n",
              "  }\n",
              "\n",
              "  .colab-df-quickchart:hover {\n",
              "    background-color: #E2EBFA;\n",
              "    box-shadow: 0px 1px 2px rgba(60, 64, 67, 0.3), 0px 1px 3px 1px rgba(60, 64, 67, 0.15);\n",
              "    fill: #174EA6;\n",
              "  }\n",
              "\n",
              "  [theme=dark] .colab-df-quickchart {\n",
              "    background-color: #3B4455;\n",
              "    fill: #D2E3FC;\n",
              "  }\n",
              "\n",
              "  [theme=dark] .colab-df-quickchart:hover {\n",
              "    background-color: #434B5C;\n",
              "    box-shadow: 0px 1px 3px 1px rgba(0, 0, 0, 0.15);\n",
              "    filter: drop-shadow(0px 1px 2px rgba(0, 0, 0, 0.3));\n",
              "    fill: #FFFFFF;\n",
              "  }\n",
              "</style>\n",
              "\n",
              "    <script>\n",
              "      async function quickchart(key) {\n",
              "        const containerElement = document.querySelector('#' + key);\n",
              "        const charts = await google.colab.kernel.invokeFunction(\n",
              "            'suggestCharts', [key], {});\n",
              "      }\n",
              "    </script>\n",
              "\n",
              "      <script>\n",
              "\n",
              "function displayQuickchartButton(domScope) {\n",
              "  let quickchartButtonEl =\n",
              "    domScope.querySelector('#df-6eb22f6f-6d21-4efc-92f0-ad150c3b553a button.colab-df-quickchart');\n",
              "  quickchartButtonEl.style.display =\n",
              "    google.colab.kernel.accessAllowed ? 'block' : 'none';\n",
              "}\n",
              "\n",
              "        displayQuickchartButton(document);\n",
              "      </script>\n",
              "      <style>\n",
              "    .colab-df-container {\n",
              "      display:flex;\n",
              "      flex-wrap:wrap;\n",
              "      gap: 12px;\n",
              "    }\n",
              "\n",
              "    .colab-df-convert {\n",
              "      background-color: #E8F0FE;\n",
              "      border: none;\n",
              "      border-radius: 50%;\n",
              "      cursor: pointer;\n",
              "      display: none;\n",
              "      fill: #1967D2;\n",
              "      height: 32px;\n",
              "      padding: 0 0 0 0;\n",
              "      width: 32px;\n",
              "    }\n",
              "\n",
              "    .colab-df-convert:hover {\n",
              "      background-color: #E2EBFA;\n",
              "      box-shadow: 0px 1px 2px rgba(60, 64, 67, 0.3), 0px 1px 3px 1px rgba(60, 64, 67, 0.15);\n",
              "      fill: #174EA6;\n",
              "    }\n",
              "\n",
              "    [theme=dark] .colab-df-convert {\n",
              "      background-color: #3B4455;\n",
              "      fill: #D2E3FC;\n",
              "    }\n",
              "\n",
              "    [theme=dark] .colab-df-convert:hover {\n",
              "      background-color: #434B5C;\n",
              "      box-shadow: 0px 1px 3px 1px rgba(0, 0, 0, 0.15);\n",
              "      filter: drop-shadow(0px 1px 2px rgba(0, 0, 0, 0.3));\n",
              "      fill: #FFFFFF;\n",
              "    }\n",
              "  </style>\n",
              "\n",
              "      <script>\n",
              "        const buttonEl =\n",
              "          document.querySelector('#df-3d93ccb2-ea9e-46c2-9502-0a2e4fdef597 button.colab-df-convert');\n",
              "        buttonEl.style.display =\n",
              "          google.colab.kernel.accessAllowed ? 'block' : 'none';\n",
              "\n",
              "        async function convertToInteractive(key) {\n",
              "          const element = document.querySelector('#df-3d93ccb2-ea9e-46c2-9502-0a2e4fdef597');\n",
              "          const dataTable =\n",
              "            await google.colab.kernel.invokeFunction('convertToInteractive',\n",
              "                                                     [key], {});\n",
              "          if (!dataTable) return;\n",
              "\n",
              "          const docLinkHtml = 'Like what you see? Visit the ' +\n",
              "            '<a target=\"_blank\" href=https://colab.research.google.com/notebooks/data_table.ipynb>data table notebook</a>'\n",
              "            + ' to learn more about interactive tables.';\n",
              "          element.innerHTML = '';\n",
              "          dataTable['output_type'] = 'display_data';\n",
              "          await google.colab.output.renderOutput(dataTable, element);\n",
              "          const docLink = document.createElement('div');\n",
              "          docLink.innerHTML = docLinkHtml;\n",
              "          element.appendChild(docLink);\n",
              "        }\n",
              "      </script>\n",
              "    </div>\n",
              "  </div>\n"
            ]
          },
          "metadata": {},
          "execution_count": 6
        }
      ],
      "source": [
        "df.describe()"
      ]
    },
    {
      "cell_type": "code",
      "execution_count": 7,
      "metadata": {
        "colab": {
          "base_uri": "https://localhost:8080/"
        },
        "id": "Lwl94m-Pzs34",
        "outputId": "1c896f18-104b-4a75-847c-90d863e1bcc7"
      },
      "outputs": [
        {
          "output_type": "execute_result",
          "data": {
            "text/plain": [
              "region                          0\n",
              "price                           0\n",
              "type                            0\n",
              "sqfeet                          0\n",
              "beds                            0\n",
              "baths                           0\n",
              "cats_allowed                    0\n",
              "dogs_allowed                    0\n",
              "smoking_allowed                 0\n",
              "wheelchair_access               0\n",
              "electric_vehicle_charge         0\n",
              "comes_furnished                 0\n",
              "laundry_options             79026\n",
              "parking_options            140687\n",
              "lat                          1918\n",
              "long                         1918\n",
              "state                           0\n",
              "dtype: int64"
            ]
          },
          "metadata": {},
          "execution_count": 7
        }
      ],
      "source": [
        "df.isna().sum()"
      ]
    },
    {
      "cell_type": "code",
      "execution_count": 8,
      "metadata": {
        "colab": {
          "base_uri": "https://localhost:8080/"
        },
        "id": "6-MasBfYzuHA",
        "outputId": "6f61d29c-2468-412d-dd2f-a340b9377dbd"
      },
      "outputs": [
        {
          "output_type": "execute_result",
          "data": {
            "text/plain": [
              "region                     0\n",
              "price                      0\n",
              "type                       0\n",
              "sqfeet                     0\n",
              "beds                       0\n",
              "baths                      0\n",
              "cats_allowed               0\n",
              "dogs_allowed               0\n",
              "smoking_allowed            0\n",
              "wheelchair_access          0\n",
              "electric_vehicle_charge    0\n",
              "comes_furnished            0\n",
              "laundry_options            0\n",
              "parking_options            0\n",
              "lat                        0\n",
              "long                       0\n",
              "state                      0\n",
              "dtype: int64"
            ]
          },
          "metadata": {},
          "execution_count": 8
        }
      ],
      "source": [
        "df1 = df\n",
        "df1 = df.fillna(0)\n",
        "df1.isna().sum()\n"
      ]
    },
    {
      "cell_type": "code",
      "execution_count": 9,
      "metadata": {
        "id": "7STrsECjrJu7"
      },
      "outputs": [],
      "source": [
        "import matplotlib.pyplot as plt\n",
        "import seaborn as sns\n",
        "sns.set_theme(style=\"darkgrid\")\n",
        "import numpy as np"
      ]
    },
    {
      "cell_type": "code",
      "execution_count": 10,
      "metadata": {
        "colab": {
          "base_uri": "https://localhost:8080/"
        },
        "id": "XPe0lpRxtyAS",
        "outputId": "e9acc2f6-6a42-4193-caa1-bae5d6f52980"
      },
      "outputs": [
        {
          "output_type": "execute_result",
          "data": {
            "text/plain": [
              "(805.0, 1036.0, 1395.0)"
            ]
          },
          "metadata": {},
          "execution_count": 10
        }
      ],
      "source": [
        "q1, q2, q3 = df1['price'].quantile([0.25, 0.50, 0.75])\n",
        "q1, q2, q3"
      ]
    },
    {
      "cell_type": "code",
      "execution_count": 11,
      "metadata": {
        "colab": {
          "base_uri": "https://localhost:8080/"
        },
        "id": "kClJVxC84bPj",
        "outputId": "e79aca27-44af-4878-9ecd-dbd1db5983c5"
      },
      "outputs": [
        {
          "output_type": "stream",
          "name": "stdout",
          "text": [
            "          Q1      Q2      Q3\n",
            "price  805.0  1036.0  1395.0\n"
          ]
        }
      ],
      "source": [
        "df_quartiles = pd.DataFrame({'Q1': q1, 'Q2': q2, 'Q3': q3}, index=['price'])\n",
        "\n",
        "print(df_quartiles)"
      ]
    },
    {
      "cell_type": "code",
      "execution_count": 12,
      "metadata": {
        "colab": {
          "base_uri": "https://localhost:8080/"
        },
        "id": "nY4ib9bSwoWl",
        "outputId": "11b8a757-15ff-4b83-d997-196598055d4d"
      },
      "outputs": [
        {
          "output_type": "execute_result",
          "data": {
            "text/plain": [
              "590.0"
            ]
          },
          "metadata": {},
          "execution_count": 12
        }
      ],
      "source": [
        "iqr = q3 - q1\n",
        "iqr"
      ]
    },
    {
      "cell_type": "code",
      "execution_count": 13,
      "metadata": {
        "colab": {
          "base_uri": "https://localhost:8080/"
        },
        "id": "vLflT1kDwyok",
        "outputId": "ee0f4073-9e3b-4f28-bb78-e597ee17af96"
      },
      "outputs": [
        {
          "output_type": "stream",
          "name": "stdout",
          "text": [
            "Limite superior 2280.0 \n",
            "Limite inferior -80.0\n"
          ]
        }
      ],
      "source": [
        "li = q1 - 1.5*iqr\n",
        "ls = q3 + 1.5*iqr\n",
        "print('Limite superior', ls , '\\nLimite inferior', li)"
      ]
    },
    {
      "cell_type": "code",
      "execution_count": 14,
      "metadata": {
        "colab": {
          "base_uri": "https://localhost:8080/"
        },
        "id": "Xkx_3mv8dHjo",
        "outputId": "21a79632-2c4d-4c79-cdd3-2cf15bb7158a"
      },
      "outputs": [
        {
          "output_type": "execute_result",
          "data": {
            "text/plain": [
              "0"
            ]
          },
          "metadata": {},
          "execution_count": 14
        }
      ],
      "source": [
        "df1['price'].min()"
      ]
    },
    {
      "cell_type": "code",
      "execution_count": 15,
      "metadata": {
        "colab": {
          "base_uri": "https://localhost:8080/"
        },
        "id": "MiWxdyb82D-U",
        "outputId": "3523f980-0936-406b-c0e6-c556885a0019"
      },
      "outputs": [
        {
          "output_type": "execute_result",
          "data": {
            "text/plain": [
              "(750.0, 949.0, 1150.0)"
            ]
          },
          "metadata": {},
          "execution_count": 15
        }
      ],
      "source": [
        "q1, q2, q3 = df1['sqfeet'].quantile([0.25, 0.50, 0.75])\n",
        "q1, q2, q3"
      ]
    },
    {
      "cell_type": "code",
      "execution_count": 16,
      "metadata": {
        "colab": {
          "base_uri": "https://localhost:8080/"
        },
        "id": "10SxSK7e2KAL",
        "outputId": "3306d76d-c8a4-46ac-ae7e-65fa0c2bbdd8"
      },
      "outputs": [
        {
          "output_type": "execute_result",
          "data": {
            "text/plain": [
              "400.0"
            ]
          },
          "metadata": {},
          "execution_count": 16
        }
      ],
      "source": [
        "iqr = q3 - q1\n",
        "iqr"
      ]
    },
    {
      "cell_type": "code",
      "execution_count": 17,
      "metadata": {
        "colab": {
          "base_uri": "https://localhost:8080/"
        },
        "id": "tcRMW_-O2NIr",
        "outputId": "b854b1b1-515d-46ca-f562-4e32a407c0d1"
      },
      "outputs": [
        {
          "output_type": "stream",
          "name": "stdout",
          "text": [
            "Limite superior 1750.0 \n",
            "Limite inferior 150.0\n"
          ]
        }
      ],
      "source": [
        "li = q1 - 1.5*iqr\n",
        "ls = q3 + 1.5*iqr\n",
        "print('Limite superior', ls , '\\nLimite inferior', li)"
      ]
    },
    {
      "cell_type": "code",
      "execution_count": 18,
      "metadata": {
        "id": "ZTvxdPbYd_nQ"
      },
      "outputs": [],
      "source": [
        "limpieza1 = ((df[\"beds\"]>7) | (df[\"baths\"]>7) | (df[\"sqfeet\"]<150) | (df[\"sqfeet\"]>3000) | (df[\"price\"]<100) | (df[\"price\"]>2500))\n",
        "df1 = df1[~limpieza1]"
      ]
    },
    {
      "cell_type": "code",
      "execution_count": 19,
      "metadata": {
        "id": "rQKhy_IOaPcw"
      },
      "outputs": [],
      "source": [
        "df1['type'] = df1['type'].replace({'apartment': 'Apartamento', 'condo': 'Condominio', 'house': 'Casa', 'townhouse': 'Casa Adosada', 'manufactured': 'Pre-fabricada', 'cottage/cabin': 'Cabaña', 'flat':'Piso', 'in-law' : 'Vivienda Secundaria', 'land' : 'Tierra', 'assisted living' : 'Vivienda con Asistencia', 'loft': 'Loft', 'duplex' :'Duplex'})"
      ]
    },
    {
      "cell_type": "code",
      "execution_count": 20,
      "metadata": {
        "id": "OLZ-e67O9iWy"
      },
      "outputs": [],
      "source": [
        "reemplazo = {0: 'No permite', 1: 'Permite'}\n",
        "df1['dogs_allowed'] = df1['dogs_allowed'].replace(reemplazo)\n",
        "df1['cats_allowed'] = df1['cats_allowed'].replace(reemplazo)\n",
        "df1['smoking_allowed'] = df1['smoking_allowed'].replace(reemplazo)"
      ]
    },
    {
      "cell_type": "code",
      "execution_count": 21,
      "metadata": {
        "id": "k5ObyLKcG3dc"
      },
      "outputs": [],
      "source": [
        "from sklearn import preprocessing\n",
        "from sklearn.preprocessing import LabelEncoder"
      ]
    },
    {
      "cell_type": "code",
      "execution_count": 22,
      "metadata": {
        "id": "55fgLaDBy0J_"
      },
      "outputs": [],
      "source": [
        "reemplazo2 = {'No permite': 0,'Permite': 1}\n",
        "df1['dogs_allowed'] = df1['dogs_allowed'].replace(reemplazo2)\n",
        "df1['cats_allowed'] = df1['cats_allowed'].replace(reemplazo2)\n",
        "df1['smoking_allowed'] = df1['smoking_allowed'].replace(reemplazo2)"
      ]
    },
    {
      "cell_type": "code",
      "execution_count": 23,
      "metadata": {
        "id": "AXK-yStgG4fq"
      },
      "outputs": [],
      "source": [
        "le=LabelEncoder()\n",
        "db=df1"
      ]
    },
    {
      "cell_type": "code",
      "execution_count": 24,
      "metadata": {
        "id": "ZRChfi3JHFOf"
      },
      "outputs": [],
      "source": [
        "db[\"region\"]=le.fit_transform(df1[\"region\"])\n",
        "db[\"type\"]=le.fit_transform(df1[\"type\"])\n",
        "db[\"state\"]=le.fit_transform(df1[\"state\"])"
      ]
    },
    {
      "cell_type": "code",
      "execution_count": 25,
      "metadata": {
        "colab": {
          "base_uri": "https://localhost:8080/"
        },
        "id": "p0bf_r00HJzp",
        "outputId": "a1ba58a5-3cde-4b68-9e6a-b686bf702771"
      },
      "outputs": [
        {
          "output_type": "stream",
          "name": "stdout",
          "text": [
            "<class 'pandas.core.frame.DataFrame'>\n",
            "Int64Index: 368470 entries, 7049044568 to 7049050010\n",
            "Data columns (total 17 columns):\n",
            " #   Column                   Non-Null Count   Dtype  \n",
            "---  ------                   --------------   -----  \n",
            " 0   region                   368470 non-null  int64  \n",
            " 1   price                    368470 non-null  int64  \n",
            " 2   type                     368470 non-null  int64  \n",
            " 3   sqfeet                   368470 non-null  int64  \n",
            " 4   beds                     368470 non-null  int64  \n",
            " 5   baths                    368470 non-null  float64\n",
            " 6   cats_allowed             368470 non-null  int64  \n",
            " 7   dogs_allowed             368470 non-null  int64  \n",
            " 8   smoking_allowed          368470 non-null  int64  \n",
            " 9   wheelchair_access        368470 non-null  int64  \n",
            " 10  electric_vehicle_charge  368470 non-null  int64  \n",
            " 11  comes_furnished          368470 non-null  int64  \n",
            " 12  laundry_options          368470 non-null  object \n",
            " 13  parking_options          368470 non-null  object \n",
            " 14  lat                      368470 non-null  float64\n",
            " 15  long                     368470 non-null  float64\n",
            " 16  state                    368470 non-null  int64  \n",
            "dtypes: float64(3), int64(12), object(2)\n",
            "memory usage: 50.6+ MB\n"
          ]
        }
      ],
      "source": [
        "db.info()"
      ]
    },
    {
      "cell_type": "code",
      "execution_count": 26,
      "metadata": {
        "id": "5olfcj4YHfoe"
      },
      "outputs": [],
      "source": [
        "db.laundry_options = db.laundry_options.replace([0], [np.nan])\n",
        "db.parking_options = db.parking_options.replace([0], [np.nan])"
      ]
    },
    {
      "cell_type": "code",
      "execution_count": 27,
      "metadata": {
        "id": "AS-qIw1PHvIQ"
      },
      "outputs": [],
      "source": [
        "db[\"laundry_options\"]=le.fit_transform(df1[\"laundry_options\"])\n",
        "db[\"parking_options\"]=le.fit_transform(df1[\"parking_options\"])"
      ]
    },
    {
      "cell_type": "code",
      "execution_count": 28,
      "metadata": {
        "colab": {
          "base_uri": "https://localhost:8080/"
        },
        "id": "CdYFiOGfH0aA",
        "outputId": "594b0505-c744-460b-c56f-dcff8d18b271"
      },
      "outputs": [
        {
          "output_type": "stream",
          "name": "stdout",
          "text": [
            "<class 'pandas.core.frame.DataFrame'>\n",
            "Int64Index: 368470 entries, 7049044568 to 7049050010\n",
            "Data columns (total 17 columns):\n",
            " #   Column                   Non-Null Count   Dtype  \n",
            "---  ------                   --------------   -----  \n",
            " 0   region                   368470 non-null  int64  \n",
            " 1   price                    368470 non-null  int64  \n",
            " 2   type                     368470 non-null  int64  \n",
            " 3   sqfeet                   368470 non-null  int64  \n",
            " 4   beds                     368470 non-null  int64  \n",
            " 5   baths                    368470 non-null  float64\n",
            " 6   cats_allowed             368470 non-null  int64  \n",
            " 7   dogs_allowed             368470 non-null  int64  \n",
            " 8   smoking_allowed          368470 non-null  int64  \n",
            " 9   wheelchair_access        368470 non-null  int64  \n",
            " 10  electric_vehicle_charge  368470 non-null  int64  \n",
            " 11  comes_furnished          368470 non-null  int64  \n",
            " 12  laundry_options          368470 non-null  int64  \n",
            " 13  parking_options          368470 non-null  int64  \n",
            " 14  lat                      368470 non-null  float64\n",
            " 15  long                     368470 non-null  float64\n",
            " 16  state                    368470 non-null  int64  \n",
            "dtypes: float64(3), int64(14)\n",
            "memory usage: 50.6 MB\n"
          ]
        }
      ],
      "source": [
        "db.info()"
      ]
    },
    {
      "cell_type": "code",
      "execution_count": 29,
      "metadata": {
        "id": "Tm2M7GeXH-tk"
      },
      "outputs": [],
      "source": [
        "x=db.drop(columns=[\"price\"])\n",
        "y=db[\"price\"]"
      ]
    },
    {
      "cell_type": "code",
      "execution_count": 30,
      "metadata": {
        "id": "-lIbKDCEwLN8"
      },
      "outputs": [],
      "source": [
        "import pandas as pd\n",
        "from sklearn.decomposition import PCA\n"
      ]
    },
    {
      "cell_type": "code",
      "execution_count": 31,
      "metadata": {
        "colab": {
          "base_uri": "https://localhost:8080/"
        },
        "id": "XJPQw8PpxWgM",
        "outputId": "980f4e08-26d2-40da-a32b-d8eb0d90c846"
      },
      "outputs": [
        {
          "output_type": "execute_result",
          "data": {
            "text/plain": [
              "region                       int64\n",
              "price                        int64\n",
              "type                         int64\n",
              "sqfeet                       int64\n",
              "beds                         int64\n",
              "baths                      float64\n",
              "cats_allowed                 int64\n",
              "dogs_allowed                 int64\n",
              "smoking_allowed              int64\n",
              "wheelchair_access            int64\n",
              "electric_vehicle_charge      int64\n",
              "comes_furnished              int64\n",
              "laundry_options              int64\n",
              "parking_options              int64\n",
              "lat                        float64\n",
              "long                       float64\n",
              "state                        int64\n",
              "dtype: object"
            ]
          },
          "metadata": {},
          "execution_count": 31
        }
      ],
      "source": [
        "db.dtypes"
      ]
    },
    {
      "cell_type": "code",
      "source": [
        "db.info()\n",
        "db.count()"
      ],
      "metadata": {
        "colab": {
          "base_uri": "https://localhost:8080/"
        },
        "id": "irmew445HoOW",
        "outputId": "ef37fae6-3b5b-474b-e1bb-af035cead3f9"
      },
      "execution_count": 32,
      "outputs": [
        {
          "output_type": "stream",
          "name": "stdout",
          "text": [
            "<class 'pandas.core.frame.DataFrame'>\n",
            "Int64Index: 368470 entries, 7049044568 to 7049050010\n",
            "Data columns (total 17 columns):\n",
            " #   Column                   Non-Null Count   Dtype  \n",
            "---  ------                   --------------   -----  \n",
            " 0   region                   368470 non-null  int64  \n",
            " 1   price                    368470 non-null  int64  \n",
            " 2   type                     368470 non-null  int64  \n",
            " 3   sqfeet                   368470 non-null  int64  \n",
            " 4   beds                     368470 non-null  int64  \n",
            " 5   baths                    368470 non-null  float64\n",
            " 6   cats_allowed             368470 non-null  int64  \n",
            " 7   dogs_allowed             368470 non-null  int64  \n",
            " 8   smoking_allowed          368470 non-null  int64  \n",
            " 9   wheelchair_access        368470 non-null  int64  \n",
            " 10  electric_vehicle_charge  368470 non-null  int64  \n",
            " 11  comes_furnished          368470 non-null  int64  \n",
            " 12  laundry_options          368470 non-null  int64  \n",
            " 13  parking_options          368470 non-null  int64  \n",
            " 14  lat                      368470 non-null  float64\n",
            " 15  long                     368470 non-null  float64\n",
            " 16  state                    368470 non-null  int64  \n",
            "dtypes: float64(3), int64(14)\n",
            "memory usage: 50.6 MB\n"
          ]
        },
        {
          "output_type": "execute_result",
          "data": {
            "text/plain": [
              "region                     368470\n",
              "price                      368470\n",
              "type                       368470\n",
              "sqfeet                     368470\n",
              "beds                       368470\n",
              "baths                      368470\n",
              "cats_allowed               368470\n",
              "dogs_allowed               368470\n",
              "smoking_allowed            368470\n",
              "wheelchair_access          368470\n",
              "electric_vehicle_charge    368470\n",
              "comes_furnished            368470\n",
              "laundry_options            368470\n",
              "parking_options            368470\n",
              "lat                        368470\n",
              "long                       368470\n",
              "state                      368470\n",
              "dtype: int64"
            ]
          },
          "metadata": {},
          "execution_count": 32
        }
      ]
    },
    {
      "cell_type": "code",
      "source": [],
      "metadata": {
        "id": "esubcaaAAGz2"
      },
      "execution_count": 32,
      "outputs": []
    },
    {
      "cell_type": "markdown",
      "source": [
        "**Aplicacion de algoritmos de reduccion de dimensionalidad**"
      ],
      "metadata": {
        "id": "ZkZpJ6q1AFYz"
      }
    },
    {
      "cell_type": "markdown",
      "source": [
        "Aplico PCA en base a todos los datos"
      ],
      "metadata": {
        "id": "H1ZMsx-1fqUI"
      }
    },
    {
      "cell_type": "code",
      "source": [
        "import pandas as pd\n",
        "import numpy as np\n",
        "from sklearn.preprocessing import StandardScaler\n",
        "scaler = StandardScaler()\n",
        "dbred = db\n",
        "dbred_1 = scaler.fit_transform(dbred)\n",
        "pca = PCA(n_components=2)\n",
        "pca.fit(dbred_1)\n",
        "pca_df = pca.transform(dbred_1)\n",
        "pca_df = pd.DataFrame(pca_df)\n",
        "print(pca_df.head())"
      ],
      "metadata": {
        "colab": {
          "base_uri": "https://localhost:8080/"
        },
        "id": "Zgeim79mEgl0",
        "outputId": "f184b0aa-27be-4b9c-a859-8f990eddc178"
      },
      "execution_count": 33,
      "outputs": [
        {
          "output_type": "stream",
          "name": "stdout",
          "text": [
            "          0         1\n",
            "0  1.402964  1.825340\n",
            "1  1.891579 -0.649631\n",
            "2  2.114081  1.768193\n",
            "3 -1.337843  1.007408\n",
            "4 -3.818176  1.398512\n"
          ]
        }
      ]
    },
    {
      "cell_type": "markdown",
      "source": [
        "Se crearon dos componentes"
      ],
      "metadata": {
        "id": "I_vAFTFcgWrs"
      }
    },
    {
      "cell_type": "markdown",
      "source": [
        "Graficos variados"
      ],
      "metadata": {
        "id": "nC0sCjuafuse"
      }
    },
    {
      "cell_type": "code",
      "source": [
        "sns.pairplot(pca_df)"
      ],
      "metadata": {
        "colab": {
          "base_uri": "https://localhost:8080/",
          "height": 528
        },
        "id": "AcxkUV1tGXiY",
        "outputId": "dd3b4df5-9beb-4630-a2eb-a7df3f959789"
      },
      "execution_count": 34,
      "outputs": [
        {
          "output_type": "execute_result",
          "data": {
            "text/plain": [
              "<seaborn.axisgrid.PairGrid at 0x7b43f5d583d0>"
            ]
          },
          "metadata": {},
          "execution_count": 34
        },
        {
          "output_type": "display_data",
          "data": {
            "text/plain": [
              "<Figure size 500x500 with 6 Axes>"
            ],
            "image/png": "[encoded data removed]"
          },
          "metadata": {}
        }
      ]
    },
    {
      "cell_type": "markdown",
      "source": [
        "PCA aplicado seleccionando algunas caracteristicas"
      ],
      "metadata": {
        "id": "DgaM2_Kqgj7w"
      }
    },
    {
      "cell_type": "code",
      "source": [
        "numeric_columns = ['region', 'price', 'sqfeet', 'beds', 'baths']\n",
        "numeric_data = db[numeric_columns]\n",
        "normalized_data = scaler.fit_transform(numeric_data)\n",
        "pca = PCA(n_components=2)\n",
        "pca_result = pca.fit_transform(normalized_data)\n",
        "print(pca_result)"
      ],
      "metadata": {
        "colab": {
          "base_uri": "https://localhost:8080/"
        },
        "id": "Y40uo-KkJKbE",
        "outputId": "a9bcd4ef-2daa-4035-bdb5-e4c7123a4432"
      },
      "execution_count": 35,
      "outputs": [
        {
          "output_type": "stream",
          "name": "stdout",
          "text": [
            "[[ 1.43209995  0.65431483]\n",
            " [ 0.68579431  0.80325178]\n",
            " [ 2.25239838  1.18372461]\n",
            " ...\n",
            " [-0.48538587  0.9188467 ]\n",
            " [ 0.79362261  0.97038624]\n",
            " [ 0.67314218  0.87559204]]\n"
          ]
        }
      ]
    },
    {
      "cell_type": "markdown",
      "source": [
        "Grafico dispersion en base a los componentes generados"
      ],
      "metadata": {
        "id": "F0E2Vi4AgqbA"
      }
    },
    {
      "cell_type": "code",
      "source": [
        "pca_df = pd.DataFrame(pca_result, columns=[\"componente_1\", \"componente_2\"])\n",
        "\n",
        "pca_df.plot(x=\"componente_1\", y=\"componente_2\", kind=\"scatter\")"
      ],
      "metadata": {
        "colab": {
          "base_uri": "https://localhost:8080/",
          "height": 477
        },
        "id": "yRoWHDxMJyGd",
        "outputId": "b288a8c3-5d4d-499b-c1fe-a312f0ac4a52"
      },
      "execution_count": 36,
      "outputs": [
        {
          "output_type": "execute_result",
          "data": {
            "text/plain": [
              "<Axes: xlabel='componente_1', ylabel='componente_2'>"
            ]
          },
          "metadata": {},
          "execution_count": 36
        },
        {
          "output_type": "display_data",
          "data": {
            "text/plain": [
              "<Figure size 640x480 with 1 Axes>"
            ],
            "image/png": "[encoded data removed]"
          },
          "metadata": {}
        }
      ]
    },
    {
      "cell_type": "markdown",
      "source": [
        "Agrego una variable mas \"state\" para ver si hay cambio grafico"
      ],
      "metadata": {
        "id": "ISz95Qvig7u2"
      }
    },
    {
      "cell_type": "code",
      "source": [
        "# establezco las columnas numericas a utilizar\n",
        "columnas_numericas1 = ['region', 'price', 'sqfeet', 'beds', 'baths', 'state']\n",
        "# defino la data numerica a utilizar\n",
        "data_numerica1 = db[columnas_numericas1]\n",
        "# realizo escalado\n",
        "data_normalizada1 = scaler.fit_transform(data_numerica1)\n",
        "# establezco numero de componentes que me realizara PCA\n",
        "pca = PCA(n_components=2)\n",
        "# adapto el modelo para obtener los resultados\n",
        "pca_result1 = pca.fit_transform(data_normalizada1)\n",
        "print(pca_result)"
      ],
      "metadata": {
        "colab": {
          "base_uri": "https://localhost:8080/"
        },
        "id": "1VKzyOsxKeGk",
        "outputId": "6700190a-ce43-4543-eaf4-6a9533db225a"
      },
      "execution_count": 37,
      "outputs": [
        {
          "output_type": "stream",
          "name": "stdout",
          "text": [
            "[[ 1.43209995  0.65431483]\n",
            " [ 0.68579431  0.80325178]\n",
            " [ 2.25239838  1.18372461]\n",
            " ...\n",
            " [-0.48538587  0.9188467 ]\n",
            " [ 0.79362261  0.97038624]\n",
            " [ 0.67314218  0.87559204]]\n"
          ]
        }
      ]
    },
    {
      "cell_type": "code",
      "source": [
        "pca_df1 = pd.DataFrame(pca_result1, columns=[\"Componente 1\", \"Componente 2\"])\n",
        "\n",
        "pca_df1.plot(x=\"Componente 1\", y=\"Componente 2\", kind=\"scatter\")"
      ],
      "metadata": {
        "colab": {
          "base_uri": "https://localhost:8080/",
          "height": 476
        },
        "id": "un79SBZ7KnLU",
        "outputId": "97831da6-dee5-4919-a47e-b45d5ed9ec2b"
      },
      "execution_count": 38,
      "outputs": [
        {
          "output_type": "execute_result",
          "data": {
            "text/plain": [
              "<Axes: xlabel='Componente 1', ylabel='Componente 2'>"
            ]
          },
          "metadata": {},
          "execution_count": 38
        },
        {
          "output_type": "display_data",
          "data": {
            "text/plain": [
              "<Figure size 640x480 with 1 Axes>"
            ],
            "image/png": "[encoded data removed]"
          },
          "metadata": {}
        }
      ]
    },
    {
      "cell_type": "markdown",
      "source": [
        "Aplico LDA"
      ],
      "metadata": {
        "id": "lEXpfg8vhDIB"
      }
    },
    {
      "cell_type": "code",
      "source": [
        "from sklearn.discriminant_analysis import LinearDiscriminantAnalysis\n",
        "\n",
        "# defino la variable objetivo\n",
        "target = db[\"type\"]\n",
        "\n",
        "# especifico las variables numericas a utilizar\n",
        "columnas_numericas = ['region', 'price', 'sqfeet', 'beds', 'baths']\n",
        "\n",
        "# defino la data numerica a utilizar\n",
        "data_numerica2 = db[columnas_numericas]\n",
        "\n",
        "# escalado de la informacion\n",
        "scaler = StandardScaler()\n",
        "data_normalizada2 = scaler.fit_transform(data_numerica2)\n",
        "\n",
        "# creo el modelo LDA defino dos componentes otra vez\n",
        "lda = LinearDiscriminantAnalysis(n_components=2)\n",
        "\n",
        "# adapto el modelo\n",
        "lda.fit(data_normalizada2, target)\n",
        "\n",
        "lda_result = lda.transform(data_normalizada2)\n",
        "\n",
        "lda_df = pd.DataFrame(lda_result, columns=[\"LDA_component_1\", \"LDA_component_2\"])\n",
        "\n",
        "lda_df.plot(x=\"LDA_component_1\", y=\"LDA_component_2\", kind=\"scatter\")\n"
      ],
      "metadata": {
        "colab": {
          "base_uri": "https://localhost:8080/",
          "height": 476
        },
        "id": "kqeHq-DCNNYA",
        "outputId": "a0ba9c4d-6be9-4b22-c471-dad3e4af5f61"
      },
      "execution_count": 39,
      "outputs": [
        {
          "output_type": "execute_result",
          "data": {
            "text/plain": [
              "<Axes: xlabel='LDA_component_1', ylabel='LDA_component_2'>"
            ]
          },
          "metadata": {},
          "execution_count": 39
        },
        {
          "output_type": "display_data",
          "data": {
            "text/plain": [
              "<Figure size 640x480 with 1 Axes>"
            ],
            "image/png": "[encoded data removed]"
          },
          "metadata": {}
        }
      ]
    },
    {
      "cell_type": "markdown",
      "source": [
        "Parece incluir valores mas alejados que el grafico de PCA"
      ],
      "metadata": {
        "id": "Ze5Ft-gvhdzo"
      }
    },
    {
      "cell_type": "code",
      "source": [],
      "metadata": {
        "id": "7BFpSUetAhCg"
      },
      "execution_count": 39,
      "outputs": []
    },
    {
      "cell_type": "markdown",
      "source": [
        "**Algoritmos de clasifacion**\n",
        "\n"
      ],
      "metadata": {
        "id": "UFAqdaOaAQJe"
      }
    },
    {
      "cell_type": "code",
      "source": [
        "from sklearn.cluster import KMeans\n",
        "# defino las columnas numericas\n",
        "columnas_numericas5 = ['beds', 'baths', 'price', 'sqfeet']\n",
        "\n",
        "# establezco la informacion a utilizar en base a las columnas previamente definidas\n",
        "data_numerica5 = db[columnas_numericas5]\n",
        "\n",
        "# escalo la informacion\n",
        "scaler = StandardScaler()\n",
        "data_normalizada5 = scaler.fit_transform(data_numerica5)\n",
        "\n",
        "# creamos el modelo de Kmeans con parametro de dos clusters\n",
        "kmeans = KMeans(n_clusters=2)\n",
        "\n",
        "# ajusto el modelo\n",
        "kmeans.fit(data_normalizada5)\n",
        "\n",
        "# etiquetas de clúster para cada punto de datos\n",
        "cluster_labels = kmeans.predict(data_normalizada5)\n",
        "\n",
        "# grafico\n",
        "plt.scatter(data_normalizada5[:, 0], data_normalizada5[:, 1], c=cluster_labels)\n",
        "plt.show()"
      ],
      "metadata": {
        "colab": {
          "base_uri": "https://localhost:8080/",
          "height": 490
        },
        "id": "2lQckMu7PHLH",
        "outputId": "591f8e33-c448-486f-ecd0-e890687561a0"
      },
      "execution_count": 40,
      "outputs": [
        {
          "output_type": "stream",
          "name": "stderr",
          "text": [
            "/usr/local/lib/python3.10/dist-packages/sklearn/cluster/_kmeans.py:870: FutureWarning: The default value of `n_init` will change from 10 to 'auto' in 1.4. Set the value of `n_init` explicitly to suppress the warning\n",
            "  warnings.warn(\n"
          ]
        },
        {
          "output_type": "display_data",
          "data": {
            "text/plain": [
              "<Figure size 640x480 with 1 Axes>"
            ],
            "image/png": "[encoded data removed]"
          },
          "metadata": {}
        }
      ]
    },
    {
      "cell_type": "markdown",
      "source": [
        "No se llegan a ver bien algunos colores por ende voy a aplicar una reformulacion del codigo anterior para generar una visualizacion mejor"
      ],
      "metadata": {
        "id": "JDc-yOkFkZWv"
      }
    },
    {
      "cell_type": "code",
      "source": [
        "from sklearn.cluster import KMeans\n",
        "import matplotlib.pyplot as plt\n",
        "import numpy as np\n",
        "\n",
        "# columnas numericas\n",
        "columnas_numericas5 = ['beds', 'baths', 'price', 'sqfeet']\n",
        "\n",
        "# informacion a utilizar en base a las columnas previamente definidas\n",
        "data_numerica5 = db[columnas_numericas5]\n",
        "\n",
        "# escalo la informacion\n",
        "scaler = StandardScaler()\n",
        "data_normalizada5 = scaler.fit_transform(data_numerica5)\n",
        "\n",
        "# creamos el modelo de Kmeans con parametro de dos clusters\n",
        "kmeans = KMeans(n_clusters=2)\n",
        "\n",
        "# ajusto el modelo\n",
        "kmeans.fit(data_normalizada5)\n",
        "\n",
        "# etiquetas de clúster para cada punto de datos\n",
        "cluster_labels_kmean1 = kmeans.predict(data_normalizada5)\n",
        "\n",
        "# valores\n",
        "unique_labels_1 = set(cluster_labels_kmean1)\n",
        "\n",
        "# paleta colores\n",
        "custom_palette = sns.color_palette('Set1', len(unique_labels_1))\n",
        "\n",
        "# paleta de dos colores\n",
        "custom_palette = ['red', 'blue']\n",
        "\n",
        "# color a cada valor\n",
        "label_color_dict = {label: color for label, color in zip(unique_labels_1, custom_palette)}\n",
        "\n",
        "# lista de colores\n",
        "point_colors = [label_color_dict[label] for label in cluster_labels_kmean1]\n",
        "\n",
        "# grafica\n",
        "plt.scatter(data_normalizada5[:, 0], data_normalizada5[:, 1], c=point_colors)\n",
        "plt.title('K-means Clustering')\n",
        "\n",
        "# leyenda para distinguir grupos\n",
        "unique_labels = np.unique(cluster_labels_kmean1)\n",
        "for label, color in zip(unique_labels, custom_palette):\n",
        "    plt.scatter([], [], c=color, label=label)\n",
        "plt.legend()\n",
        "\n",
        "plt.show()\n"
      ],
      "metadata": {
        "colab": {
          "base_uri": "https://localhost:8080/",
          "height": 513
        },
        "id": "d-N_jyl2lTea",
        "outputId": "367a367c-eaae-4267-818d-052132bb878f"
      },
      "execution_count": 41,
      "outputs": [
        {
          "output_type": "stream",
          "name": "stderr",
          "text": [
            "/usr/local/lib/python3.10/dist-packages/sklearn/cluster/_kmeans.py:870: FutureWarning: The default value of `n_init` will change from 10 to 'auto' in 1.4. Set the value of `n_init` explicitly to suppress the warning\n",
            "  warnings.warn(\n"
          ]
        },
        {
          "output_type": "display_data",
          "data": {
            "text/plain": [
              "<Figure size 640x480 with 1 Axes>"
            ],
            "image/png": "[encoded data removed]"
          },
          "metadata": {}
        }
      ]
    },
    {
      "cell_type": "markdown",
      "source": [
        "Este grafico debio quedar determinado de la siguiente manera, tan \"segmentado\" por el hecho de la cofiguracion que se le dieron a las variables \"beds\" y \"baths\" donde se establecieron numeros enterios, por ende como vemos los puntos casi sobre las intersecciones."
      ],
      "metadata": {
        "id": "bTh2gdy_l_c4"
      }
    },
    {
      "cell_type": "code",
      "source": [
        "from sklearn.cluster import Birch\n",
        "from sklearn.preprocessing import StandardScaler\n",
        "import seaborn as sns\n",
        "db2 = db.copy()\n",
        "# columnas numericas\n",
        "columnas_numericas6 = ['price', 'sqfeet']\n",
        "\n",
        "data_numerica6 = db2[columnas_numericas6]\n",
        "\n",
        "# escalado\n",
        "scaler = StandardScaler()\n",
        "data_normalizada6 = scaler.fit_transform(data_numerica6)\n",
        "\n",
        "# modelo BIRCH\n",
        "birch = Birch(n_clusters=3, threshold=0.5, branching_factor=50)\n",
        "birch.fit(data_normalizada6)\n",
        "\n",
        "import matplotlib.pyplot as plt\n",
        "import seaborn as sns\n",
        "\n",
        "# clusters\n",
        "cluster_labels2 = birch.predict(data_normalizada6)\n",
        "\n",
        "# color\n",
        "cmap = plt.cm.Set1\n",
        "\n",
        "# gráficos\n",
        "plt.scatter(data_normalizada6[:, 0], data_normalizada6[:, 1], c=cluster_labels2, cmap=cmap)\n",
        "plt.show()"
      ],
      "metadata": {
        "colab": {
          "base_uri": "https://localhost:8080/",
          "height": 434
        },
        "id": "GfJqrfZDKoR6",
        "outputId": "3287f1c5-2f93-4c42-d77e-a2bf70d597c0"
      },
      "execution_count": 49,
      "outputs": [
        {
          "output_type": "display_data",
          "data": {
            "text/plain": [
              "<Figure size 640x480 with 1 Axes>"
            ],
            "image/png": "[encoded data removed]"
          },
          "metadata": {}
        }
      ]
    },
    {
      "cell_type": "code",
      "source": [
        "datanumerica_prueba1 =['price', 'sqfeet']\n",
        "\n",
        "# defino la data numerica a utilizar\n",
        "data_numerica_prueba1 = db2[datanumerica_prueba1]\n",
        "\n",
        "# escalado de la informacion\n",
        "scaler = StandardScaler()\n",
        "data_normalizada_prueba1 = scaler.fit_transform(data_numerica_prueba1)\n",
        "\n",
        "# adapto el modelo\n",
        "lda.fit(data_normalizada_prueba1, target)\n",
        "\n",
        "lda_result = lda.transform(data_normalizada_prueba1)\n",
        "\n",
        "# Create a BIRCH model\n",
        "birch = Birch(n_clusters=3, threshold=0.5, branching_factor=50)\n",
        "\n",
        "# Fit the model to the data\n",
        "birch.fit(lda_result)\n",
        "\n",
        "import matplotlib.pyplot as plt\n",
        "import seaborn as sns\n",
        "\n",
        "# Get the cluster labels\n",
        "cluster_labels3 = birch.predict(lda_result)\n",
        "\n",
        "# Use the Set1 color palette\n",
        "cmap = plt.cm.Set1\n",
        "\n",
        "# Plot the clusters\n",
        "plt.scatter(lda_result[:, 0], lda_result[:, 1], c=cluster_labels3, cmap=cmap)\n",
        "plt.show()"
      ],
      "metadata": {
        "colab": {
          "base_uri": "https://localhost:8080/",
          "height": 434
        },
        "id": "H2wAKBXJLIKu",
        "outputId": "144ca69e-b7e1-4ede-8dc7-0dec7539046e"
      },
      "execution_count": 50,
      "outputs": [
        {
          "output_type": "display_data",
          "data": {
            "text/plain": [
              "<Figure size 640x480 with 1 Axes>"
            ],
            "image/png": "[encoded data removed]"
          },
          "metadata": {}
        }
      ]
    }
  ],
  "metadata": {
    "colab": {
      "provenance": []
    },
    "kernelspec": {
      "display_name": "Python 3",
      "name": "python3"
    },
    "language_info": {
      "name": "python"
    }
  },
  "nbformat": 4,
  "nbformat_minor": 0
}